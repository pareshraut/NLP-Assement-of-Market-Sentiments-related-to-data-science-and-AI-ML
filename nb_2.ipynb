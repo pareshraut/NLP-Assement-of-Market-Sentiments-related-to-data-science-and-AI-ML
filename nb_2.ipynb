{
 "cells": [
  {
   "cell_type": "code",
   "execution_count": 1,
   "id": "694d1db1-0cea-41de-8162-aa1f93924a02",
   "metadata": {},
   "outputs": [],
   "source": [
    "import pandas as pd\n",
    "import re\n",
    "import warnings\n",
    "warnings.filterwarnings('ignore')"
   ]
  },
  {
   "cell_type": "code",
   "execution_count": null,
   "id": "0e6aa026-a780-48aa-9a96-3894d34a20a1",
   "metadata": {
    "tags": []
   },
   "outputs": [],
   "source": [
    "# !pip3 install gensim\n",
    "!pip3 install --upgrade pyLDAvis\n"
   ]
  },
  {
   "cell_type": "code",
   "execution_count": null,
   "id": "7aaddaa4-76e2-4c15-9dda-2033bf8fe736",
   "metadata": {
    "tags": []
   },
   "outputs": [],
   "source": [
    "import os\n",
    "import time\n",
    "import math\n",
    "from pprint import pprint\n",
    "from textblob import TextBlob\n",
    "import pandas as pd\n",
    "import numpy as np\n",
    "from pandarallel import pandarallel\n",
    "\n",
    "import matplotlib.pyplot as plt\n",
    "\n",
    "\n",
    "import nltk as nltk\n",
    "from nltk.corpus import stopwords\n",
    "import spacy\n",
    "spacy.load(\"en_core_web_sm\")\n",
    "import multiprocessing\n",
    "import string\n",
    "\n",
    "\n",
    "import gensim\n",
    "from gensim import corpora, models\n",
    "from gensim.models.ldamulticore import LdaMulticore\n",
    "from gensim.utils import simple_preprocess\n",
    "from gensim.models import CoherenceModel\n",
    "from pandarallel import pandarallel\n",
    "\n",
    "import pyLDAvis\n",
    "import pyLDAvis.gensim_models as gensimvis\n",
    "pyLDAvis.enable_notebook()"
   ]
  },
  {
   "cell_type": "code",
   "execution_count": 4,
   "id": "8290c8df",
   "metadata": {},
   "outputs": [
    {
     "name": "stdout",
     "output_type": "stream",
     "text": [
      "Available CPUs: 16\n"
     ]
    }
   ],
   "source": [
    "import multiprocessing\n",
    "\n",
    "num_processors = multiprocessing.cpu_count()\n",
    "workers = num_processors-1\n",
    "print(f'Available CPUs: {num_processors}')"
   ]
  },
  {
   "cell_type": "code",
   "execution_count": 5,
   "id": "72496872",
   "metadata": {},
   "outputs": [
    {
     "name": "stdout",
     "output_type": "stream",
     "text": [
      "INFO: Pandarallel will run on 15 workers.\n",
      "INFO: Pandarallel will use standard multiprocessing data transfer (pipe) to transfer data between the main process and workers.\n"
     ]
    }
   ],
   "source": [
    "pandarallel.initialize(nb_workers=num_processors-1, use_memory_fs=False)"
   ]
  },
  {
   "cell_type": "code",
   "execution_count": 6,
   "id": "2fe764bc-b686-4e7d-bd26-5e1c182566a9",
   "metadata": {},
   "outputs": [
    {
     "name": "stdout",
     "output_type": "stream",
     "text": [
      "CPU times: user 3.99 s, sys: 2.48 s, total: 6.47 s\n",
      "Wall time: 6.36 s\n"
     ]
    },
    {
     "data": {
      "text/plain": [
       "(184488, 3)"
      ]
     },
     "execution_count": 6,
     "metadata": {},
     "output_type": "execute_result"
    }
   ],
   "source": [
    "%%time\n",
    "\n",
    "df = pd.read_parquet('nlp_clean_text.parquet')\n",
    "df.shape"
   ]
  },
  {
   "cell_type": "code",
   "execution_count": 8,
   "id": "f4605ce1-28e5-4f2d-a049-dc3ff1606a4b",
   "metadata": {},
   "outputs": [
    {
     "data": {
      "text/html": [
       "<div>\n",
       "<style scoped>\n",
       "    .dataframe tbody tr th:only-of-type {\n",
       "        vertical-align: middle;\n",
       "    }\n",
       "\n",
       "    .dataframe tbody tr th {\n",
       "        vertical-align: top;\n",
       "    }\n",
       "\n",
       "    .dataframe thead th {\n",
       "        text-align: right;\n",
       "    }\n",
       "</style>\n",
       "<table border=\"1\" class=\"dataframe\">\n",
       "  <thead>\n",
       "    <tr style=\"text-align: right;\">\n",
       "      <th></th>\n",
       "      <th>date</th>\n",
       "      <th>clean_title</th>\n",
       "      <th>clean_text</th>\n",
       "    </tr>\n",
       "  </thead>\n",
       "  <tbody>\n",
       "    <tr>\n",
       "      <th>0</th>\n",
       "      <td>2020-01-28</td>\n",
       "      <td>auckland.scoop.co.nz » AUT boosts AI expertise...</td>\n",
       "      <td>auckland.scoop.co.nz » AUT boosts AI expertise...</td>\n",
       "    </tr>\n",
       "    <tr>\n",
       "      <th>1</th>\n",
       "      <td>2021-03-18</td>\n",
       "      <td>Artificial intelligence improves parking effic...</td>\n",
       "      <td>Artificial intelligence improves parking effic...</td>\n",
       "    </tr>\n",
       "    <tr>\n",
       "      <th>2</th>\n",
       "      <td>2020-02-26</td>\n",
       "      <td>LegalTech Artificial Intelligence Market 2019 ...</td>\n",
       "      <td>LegalTech Artificial Intelligence Market 2019 ...</td>\n",
       "    </tr>\n",
       "    <tr>\n",
       "      <th>3</th>\n",
       "      <td>2020-02-27</td>\n",
       "      <td>Children With Autism Saw Their Learning and So...</td>\n",
       "      <td>Children With Autism Saw Their Learning and So...</td>\n",
       "    </tr>\n",
       "    <tr>\n",
       "      <th>4</th>\n",
       "      <td>2021-07-05</td>\n",
       "      <td>Observation, Simulation, And AI Join Forces To...</td>\n",
       "      <td>Observation, Simulation, And AI Join Forces To...</td>\n",
       "    </tr>\n",
       "  </tbody>\n",
       "</table>\n",
       "</div>"
      ],
      "text/plain": [
       "         date                                        clean_title  \\\n",
       "0  2020-01-28  auckland.scoop.co.nz » AUT boosts AI expertise...   \n",
       "1  2021-03-18  Artificial intelligence improves parking effic...   \n",
       "2  2020-02-26  LegalTech Artificial Intelligence Market 2019 ...   \n",
       "3  2020-02-27  Children With Autism Saw Their Learning and So...   \n",
       "4  2021-07-05  Observation, Simulation, And AI Join Forces To...   \n",
       "\n",
       "                                          clean_text  \n",
       "0  auckland.scoop.co.nz » AUT boosts AI expertise...  \n",
       "1  Artificial intelligence improves parking effic...  \n",
       "2  LegalTech Artificial Intelligence Market 2019 ...  \n",
       "3  Children With Autism Saw Their Learning and So...  \n",
       "4  Observation, Simulation, And AI Join Forces To...  "
      ]
     },
     "execution_count": 8,
     "metadata": {},
     "output_type": "execute_result"
    }
   ],
   "source": [
    "df.head()"
   ]
  },
  {
   "cell_type": "code",
   "execution_count": null,
   "id": "cefdc172-2e16-4e8c-934c-6ce714916930",
   "metadata": {},
   "outputs": [],
   "source": [
    "#Detect major topics"
   ]
  },
  {
   "cell_type": "code",
   "execution_count": 9,
   "id": "0a986790-0511-4c26-853d-2a03cef225b3",
   "metadata": {},
   "outputs": [
    {
     "data": {
      "text/plain": [
       "count    184488.000000\n",
       "mean         15.206165\n",
       "std           9.364707\n",
       "min           2.000000\n",
       "25%          11.000000\n",
       "50%          14.000000\n",
       "75%          18.000000\n",
       "max        1726.000000\n",
       "Name: clean_title, dtype: float64"
      ]
     },
     "execution_count": 9,
     "metadata": {},
     "output_type": "execute_result"
    }
   ],
   "source": [
    "df[\"clean_title\"].str.split().str.len().describe()"
   ]
  },
  {
   "cell_type": "code",
   "execution_count": 10,
   "id": "06ee3684-3adc-4624-bf1a-d1c8f57898be",
   "metadata": {},
   "outputs": [
    {
     "data": {
      "text/plain": [
       "count    184488.000000\n",
       "mean        879.810676\n",
       "std         762.942127\n",
       "min           5.000000\n",
       "25%         467.000000\n",
       "50%         737.000000\n",
       "75%        1110.000000\n",
       "max       35165.000000\n",
       "Name: clean_text, dtype: float64"
      ]
     },
     "execution_count": 10,
     "metadata": {},
     "output_type": "execute_result"
    }
   ],
   "source": [
    "df[\"clean_text\"].str.split().str.len().describe()"
   ]
  },
  {
   "cell_type": "code",
   "execution_count": 7,
   "id": "8b92b896-1bf5-48df-9fd8-81b634cf9adf",
   "metadata": {},
   "outputs": [
    {
     "name": "stdout",
     "output_type": "stream",
     "text": [
      "CPU times: user 9min 28s, sys: 11.3 s, total: 9min 40s\n",
      "Wall time: 9min 40s\n"
     ]
    }
   ],
   "source": [
    "%%time\n",
    "# Tokenize text into words and remove punctuation\n",
    "def sent_to_words(sentences):\n",
    "    for sentence in sentences:\n",
    "        yield(gensim.utils.simple_preprocess(str(sentence), deacc=True))  # deacc=True removes punctuations\n",
    "data_list = df['clean_text'].tolist()        \n",
    "data_tokens = list(sent_to_words(data_list))"
   ]
  },
  {
   "cell_type": "code",
   "execution_count": 8,
   "id": "2ee771aa-d74f-4f21-a625-79358064a282",
   "metadata": {},
   "outputs": [
    {
     "name": "stdout",
     "output_type": "stream",
     "text": [
      "CPU times: user 15min 11s, sys: 5.05 s, total: 15min 16s\n",
      "Wall time: 15min 16s\n"
     ]
    }
   ],
   "source": [
    "%%time\n",
    "bigram = gensim.models.Phrases(data_tokens, min_count=1, threshold=1)\n",
    "trigram = gensim.models.Phrases(bigram[data_tokens], threshold=1)\n",
    "\n",
    "bigram_mod = gensim.models.phrases.Phraser(bigram)\n",
    "trigram_mod = gensim.models.phrases.Phraser(trigram)"
   ]
  },
  {
   "cell_type": "code",
   "execution_count": 9,
   "id": "beec54cf-5c10-47f4-87a4-04fb931d125a",
   "metadata": {},
   "outputs": [
    {
     "name": "stdout",
     "output_type": "stream",
     "text": [
      "CPU times: user 5.1 ms, sys: 75 µs, total: 5.17 ms\n",
      "Wall time: 25.8 ms\n"
     ]
    }
   ],
   "source": [
    "%%time\n",
    "stop_words = stopwords.words('english')\n",
    "\n",
    "# Define functions for stopwords, bigrams, trigrams and lemmatization\n",
    "def remove_stopwords(texts):\n",
    "    return [[word for word in simple_preprocess(str(doc)) if word not in stop_words] for doc in texts]\n",
    "\n",
    "def make_bigrams(texts):\n",
    "    return [bigram_mod[doc] for doc in texts]\n",
    "\n",
    "def make_trigrams(texts):\n",
    "    return [trigram_mod[bigram_mod[doc]] for doc in texts]\n",
    "\n",
    "def lemmatization(texts, allowed_postags=['NOUN', 'ADJ', 'VERB', 'ADV']):\n",
    "    \"\"\"https://spacy.io/api/annotation\"\"\"\n",
    "    texts_out = []\n",
    "    for sent in texts:\n",
    "        doc = nlp(\" \".join(sent)) \n",
    "        texts_out.append([token.lemma_ for token in doc if token.pos_ in allowed_postags])\n",
    "    return texts_out"
   ]
  },
  {
   "cell_type": "code",
   "execution_count": null,
   "id": "021a46ac",
   "metadata": {},
   "outputs": [],
   "source": [
    "# !python3 -m spacy download en_core_web_sm"
   ]
  },
  {
   "cell_type": "code",
   "execution_count": 10,
   "id": "b193f2ff-ec41-4816-842d-f00369522739",
   "metadata": {},
   "outputs": [
    {
     "name": "stdout",
     "output_type": "stream",
     "text": [
      "CPU times: user 1h 26min 32s, sys: 28.3 s, total: 1h 27min 1s\n",
      "Wall time: 1h 27min 1s\n"
     ]
    }
   ],
   "source": [
    "%%time\n",
    "# Remove Stop Words\n",
    "data_tokens_nostops = remove_stopwords(data_tokens)\n",
    "\n",
    "# Create n-grams\n",
    "data_words_bigrams = make_bigrams(data_tokens_nostops)\n",
    "data_words_trigrams = make_trigrams(data_tokens_nostops)\n",
    "\n",
    "# Combine tokens and n-grams\n",
    "# data_tokens_cobnined = data_tokens_nostops + data_words_bigrams + data_words_trigrams\n",
    "data_tokens_cobnined = data_words_trigrams\n",
    "\n",
    "# Initialize spacy 'en' model, keeping only tagger component (for efficiency)\n",
    "nlp = spacy.load(\"en_core_web_sm\", disable=['parser', 'ner'])\n",
    "\n",
    "# Lemmatize text keeping only noun, adj, vb, adv\n",
    "data_lemmatized = lemmatization(data_tokens_cobnined, allowed_postags=['NOUN', 'ADJ', 'VERB', 'ADV'])\n",
    "\n",
    "#print(*data_lemmatized[:1])"
   ]
  },
  {
   "cell_type": "code",
   "execution_count": 13,
   "id": "2d220504-9a68-4093-880d-9432165460f5",
   "metadata": {},
   "outputs": [],
   "source": [
    "# import pickle\n",
    "\n",
    "# # Save data_lemmatized as a file using pickle\n",
    "# with open('data_lemmatized.pkl', 'wb') as f:\n",
    "#     pickle.dump(data_lemmatized, f)"
   ]
  },
  {
   "cell_type": "code",
   "execution_count": 6,
   "id": "412832c4-5503-4c97-a0b0-4c0a3831ae52",
   "metadata": {},
   "outputs": [],
   "source": [
    "import pickle\n",
    "\n",
    "# Load data_lemmatized from the saved file\n",
    "with open('data_lemmatized.pkl', 'rb') as f:\n",
    "    data_lemmatized = pickle.load(f)"
   ]
  },
  {
   "cell_type": "code",
   "execution_count": 7,
   "id": "4e8f9437-ac3e-4433-b6ac-a008fc6f9f47",
   "metadata": {},
   "outputs": [],
   "source": [
    "# Creating the term dictionary of our courpus, where every unique term is assigned an index. \n",
    "dictionary = corpora.Dictionary(data_lemmatized)\n",
    "\n",
    "# Converting list of documents (corpus) into Document Term Matrix using dictionary prepared above.\n",
    "doc_term_matrix = [dictionary.doc2bow(doc) for doc in data_lemmatized]"
   ]
  },
  {
   "cell_type": "code",
   "execution_count": null,
   "id": "92c167d0-4193-4a1d-a3eb-03fc66e25272",
   "metadata": {},
   "outputs": [],
   "source": [
    "#Build initial 3 topic model\n",
    "# num_processors = multiprocessing.cpu_count()\n",
    "# workers = num_processors-1\n",
    "\n",
    "# lda_model = LdaMulticore(corpus=doc_term_matrix,\n",
    "#                    id2word=dictionary,\n",
    "#                    num_topics=3,\n",
    "#                    random_state=100,\n",
    "#                    passes=10,\n",
    "#                    alpha='symmetric',\n",
    "#                    eta='auto',\n",
    "#                    workers=workers)"
   ]
  },
  {
   "cell_type": "code",
   "execution_count": null,
   "id": "800d1402-ab37-4c2a-9f32-878174338cc5",
   "metadata": {},
   "outputs": [],
   "source": [
    "# Compute Coherence Score\n",
    "# coherence_model_lda = CoherenceModel(model=lda_model, texts=data_lemmatized, dictionary=dictionary, coherence='c_v')\n",
    "# coherence_lda = coherence_model_lda.get_coherence()\n",
    "# print('\\nCoherence Score: ', coherence_lda)"
   ]
  },
  {
   "cell_type": "code",
   "execution_count": 8,
   "id": "1a88d3e4-64a3-4568-ae8f-efb5d0ba765d",
   "metadata": {},
   "outputs": [],
   "source": [
    "# Tune LDA model\n",
    "def compute_coherence_values(corpus, dictionary, k, a, b):\n",
    "    \n",
    "    lda_model = LdaMulticore(corpus=doc_term_matrix,\n",
    "                       id2word=dictionary,\n",
    "                       num_topics=k,\n",
    "                       random_state=100,                  \n",
    "                       passes=10,\n",
    "                       alpha=a,\n",
    "                       eta=b,\n",
    "                       workers=workers)\n",
    "    \n",
    "    coherence_model_lda = CoherenceModel(model=lda_model, texts=data_lemmatized, dictionary=dictionary, coherence='c_v')\n",
    "    \n",
    "    return coherence_model_lda.get_coherence()"
   ]
  },
  {
   "cell_type": "code",
   "execution_count": 9,
   "id": "c1944468-cd34-48a4-847b-a658e9072061",
   "metadata": {},
   "outputs": [
    {
     "name": "stdout",
     "output_type": "stream",
     "text": [
      "LDA will execute 9 iterations\n",
      "Completed model based on 2 LDA topics. Finished 11.1% of LDA runs\n",
      "Completed model based on 3 LDA topics. Finished 22.2% of LDA runs\n",
      "Completed model based on 4 LDA topics. Finished 33.3% of LDA runs\n",
      "Completed model based on 5 LDA topics. Finished 44.4% of LDA runs\n",
      "Completed model based on 6 LDA topics. Finished 55.6% of LDA runs\n",
      "Completed model based on 7 LDA topics. Finished 66.7% of LDA runs\n",
      "Completed model based on 8 LDA topics. Finished 77.8% of LDA runs\n",
      "Completed model based on 9 LDA topics. Finished 88.9% of LDA runs\n",
      "Completed model based on 10 LDA topics. Finished 100.0% of LDA runs\n",
      "CPU times: user 1h 7min 2s, sys: 19min 43s, total: 1h 26min 45s\n",
      "Wall time: 1h 44min 40s\n"
     ]
    }
   ],
   "source": [
    "%%time\n",
    "\n",
    "grid = {}\n",
    "grid['Validation_Set'] = {}\n",
    "# Topics range\n",
    "min_topics = 2\n",
    "max_topics = 10\n",
    "step_size = 1\n",
    "topics_range = range(min_topics, max_topics+1, step_size)\n",
    "\n",
    "# Alpha parameter\n",
    "# alpha = list(np.arange(0.01, 1, 0.3))\n",
    "# alpha.append('symmetric')\n",
    "# alpha.append('asymmetric')\n",
    "alpha = ['asymmetric'] # Run for number of topics only\n",
    "\n",
    "# Beta parameter\n",
    "# beta = list(np.arange(0.01, 1, 0.3))\n",
    "# beta.append('symmetric')\n",
    "beta = ['auto'] # Run for number of topics only\n",
    "\n",
    "# Validation sets\n",
    "num_of_docs = len(doc_term_matrix)\n",
    "corpus_sets = [doc_term_matrix]\n",
    "\n",
    "corpus_title = ['100% Corpus']\n",
    "model_results = {\n",
    "                 'Topics': [],\n",
    "                 'Alpha': [],\n",
    "                 'Beta': [],\n",
    "                 'Coherence': []\n",
    "                }\n",
    "\n",
    "itr = 0\n",
    "itr_total = len(beta)*len(alpha)*len(topics_range)*len(corpus_title)\n",
    "print(f'LDA will execute {itr_total} iterations')\n",
    "\n",
    "    \n",
    "# iterate through hyperparameters\n",
    "for i in range(len(corpus_sets)):\n",
    "    # iterate through number of topics\n",
    "    for k in topics_range:\n",
    "        # iterate through alpha values\n",
    "        \n",
    "        for a in alpha:\n",
    "            # iterare through beta values\n",
    "            for b in beta:\n",
    "                # get the coherence score for the given parameters\n",
    "                itr += 1\n",
    "                cv = compute_coherence_values(corpus=corpus_sets[i], dictionary=dictionary, \n",
    "                                              k=k, a=a, b=b)\n",
    "                # Save the model results\n",
    "                model_results['Topics'].append(k)\n",
    "                model_results['Alpha'].append(a)\n",
    "                model_results['Beta'].append(b)\n",
    "                model_results['Coherence'].append(cv)\n",
    "                pct_completed = round((itr / itr_total * 100),1)\n",
    "#                 print(f'Completed Percent: {pct_completed}%, Corpus: {corpus_title[i]}, Topics: {k}, Alpha: {a}, Beta: {b}, Coherence: {cv}')\n",
    "        print(f'Completed model based on {k} LDA topics. Finished {pct_completed}% of LDA runs')\n",
    "        \n",
    "                     \n",
    "lda_tuning = pd.DataFrame(model_results)"
   ]
  },
  {
   "cell_type": "code",
   "execution_count": null,
   "id": "ae40a07c-fa9c-40df-b41b-8299ab96b0be",
   "metadata": {
    "jupyter": {
     "source_hidden": true
    },
    "tags": []
   },
   "outputs": [],
   "source": [
    "# %%time\n",
    "# grid = {}\n",
    "# grid['Validation_Set'] = {}\n",
    "# # Topics range\n",
    "# min_topics = 2\n",
    "# max_topics = 10\n",
    "# step_size = 1\n",
    "# topics_range = range(min_topics, max_topics+1, step_size)\n",
    "\n",
    "# # Alpha parameter\n",
    "# alpha = list(np.arange(0.01, 1, 0.3))\n",
    "# alpha.append('symmetric')\n",
    "# alpha.append('asymmetric')\n",
    "\n",
    "\n",
    "# # Beta parameter\n",
    "# beta = list(np.arange(0.01, 1, 0.3))\n",
    "# beta.append('symmetric')\n",
    "\n",
    "\n",
    "# # Validation sets\n",
    "# num_of_docs = len(doc_term_matrix)\n",
    "# corpus_sets = [doc_term_matrix]\n",
    "# corpus_title = ['100% Corpus']\n",
    "# model_results = {\n",
    "#                  'Topics': [],\n",
    "#                  'Alpha': [],\n",
    "#                  'Beta': [],\n",
    "#                  'Coherence': []\n",
    "#                 }\n",
    "\n",
    "# itr = 0\n",
    "# itr_total = len(beta)*len(alpha)*len(topics_range)*len(corpus_title)\n",
    "# print(f'LDA will execute {itr_total} iterations')\n",
    "\n",
    "    \n",
    "# # iterate through hyperparameters\n",
    "# for i in range(len(corpus_sets)):\n",
    "#     # iterate through number of topics\n",
    "#     for k in topics_range:\n",
    "#         # iterate through alpha values\n",
    "        \n",
    "#         for a in alpha:\n",
    "#             # iterare through beta values\n",
    "#             for b in beta:\n",
    "#                 # get the coherence score for the given parameters\n",
    "#                 itr += 1\n",
    "#                 cv = compute_coherence_values(corpus=corpus_sets[i], dictionary=dictionary, \n",
    "#                                               k=k, a=a, b=b)\n",
    "#                 # Save the model results\n",
    "#                 model_results['Topics'].append(k)\n",
    "#                 model_results['Alpha'].append(a)\n",
    "#                 model_results['Beta'].append(b)\n",
    "#                 model_results['Coherence'].append(cv)\n",
    "#                 pct_completed = round((itr / itr_total * 100),1)\n",
    "# #                 print(f'Completed Percent: {pct_completed}%, Corpus: {corpus_title[i]}, Topics: {k}, Alpha: {a}, Beta: {b}, Coherence: {cv}')\n",
    "#         print(f'Completed model based on {k} LDA topics. Finished {pct_completed}% of LDA runs')\n",
    "        \n",
    "                     \n",
    "# lda_tuning = pd.DataFrame(model_results)"
   ]
  },
  {
   "cell_type": "code",
   "execution_count": 10,
   "id": "d5bfa363-ac4b-46ce-acb7-4c59fb51021e",
   "metadata": {},
   "outputs": [],
   "source": [
    "lda_tuning.to_csv(\"lda_topics.csv\")"
   ]
  },
  {
   "cell_type": "code",
   "execution_count": 11,
   "id": "68383b26-3686-4b06-a30f-0a898c85eba8",
   "metadata": {},
   "outputs": [
    {
     "data": {
      "text/html": [
       "<div>\n",
       "<style scoped>\n",
       "    .dataframe tbody tr th:only-of-type {\n",
       "        vertical-align: middle;\n",
       "    }\n",
       "\n",
       "    .dataframe tbody tr th {\n",
       "        vertical-align: top;\n",
       "    }\n",
       "\n",
       "    .dataframe thead th {\n",
       "        text-align: right;\n",
       "    }\n",
       "</style>\n",
       "<table border=\"1\" class=\"dataframe\">\n",
       "  <thead>\n",
       "    <tr style=\"text-align: right;\">\n",
       "      <th></th>\n",
       "      <th>Topics</th>\n",
       "      <th>Alpha</th>\n",
       "      <th>Beta</th>\n",
       "      <th>Coherence</th>\n",
       "    </tr>\n",
       "  </thead>\n",
       "  <tbody>\n",
       "    <tr>\n",
       "      <th>2</th>\n",
       "      <td>4</td>\n",
       "      <td>asymmetric</td>\n",
       "      <td>auto</td>\n",
       "      <td>0.353301</td>\n",
       "    </tr>\n",
       "    <tr>\n",
       "      <th>8</th>\n",
       "      <td>10</td>\n",
       "      <td>asymmetric</td>\n",
       "      <td>auto</td>\n",
       "      <td>0.334632</td>\n",
       "    </tr>\n",
       "    <tr>\n",
       "      <th>4</th>\n",
       "      <td>6</td>\n",
       "      <td>asymmetric</td>\n",
       "      <td>auto</td>\n",
       "      <td>0.333292</td>\n",
       "    </tr>\n",
       "    <tr>\n",
       "      <th>3</th>\n",
       "      <td>5</td>\n",
       "      <td>asymmetric</td>\n",
       "      <td>auto</td>\n",
       "      <td>0.332701</td>\n",
       "    </tr>\n",
       "    <tr>\n",
       "      <th>7</th>\n",
       "      <td>9</td>\n",
       "      <td>asymmetric</td>\n",
       "      <td>auto</td>\n",
       "      <td>0.330314</td>\n",
       "    </tr>\n",
       "    <tr>\n",
       "      <th>6</th>\n",
       "      <td>8</td>\n",
       "      <td>asymmetric</td>\n",
       "      <td>auto</td>\n",
       "      <td>0.329250</td>\n",
       "    </tr>\n",
       "    <tr>\n",
       "      <th>5</th>\n",
       "      <td>7</td>\n",
       "      <td>asymmetric</td>\n",
       "      <td>auto</td>\n",
       "      <td>0.326765</td>\n",
       "    </tr>\n",
       "    <tr>\n",
       "      <th>1</th>\n",
       "      <td>3</td>\n",
       "      <td>asymmetric</td>\n",
       "      <td>auto</td>\n",
       "      <td>0.319941</td>\n",
       "    </tr>\n",
       "    <tr>\n",
       "      <th>0</th>\n",
       "      <td>2</td>\n",
       "      <td>asymmetric</td>\n",
       "      <td>auto</td>\n",
       "      <td>0.293856</td>\n",
       "    </tr>\n",
       "  </tbody>\n",
       "</table>\n",
       "</div>"
      ],
      "text/plain": [
       "   Topics       Alpha  Beta  Coherence\n",
       "2       4  asymmetric  auto   0.353301\n",
       "8      10  asymmetric  auto   0.334632\n",
       "4       6  asymmetric  auto   0.333292\n",
       "3       5  asymmetric  auto   0.332701\n",
       "7       9  asymmetric  auto   0.330314\n",
       "6       8  asymmetric  auto   0.329250\n",
       "5       7  asymmetric  auto   0.326765\n",
       "1       3  asymmetric  auto   0.319941\n",
       "0       2  asymmetric  auto   0.293856"
      ]
     },
     "execution_count": 11,
     "metadata": {},
     "output_type": "execute_result"
    }
   ],
   "source": [
    "lda_tuning.sort_values(by=['Coherence'], ascending=False).head(10)"
   ]
  },
  {
   "cell_type": "code",
   "execution_count": 12,
   "id": "8be9ce5f-f7ac-4935-8eed-e9d7bb04eddf",
   "metadata": {},
   "outputs": [
    {
     "data": {
      "text/plain": [
       "<AxesSubplot:title={'center':'Overall LDA Tuning'}, xlabel='Topics'>"
      ]
     },
     "execution_count": 12,
     "metadata": {},
     "output_type": "execute_result"
    },
    {
     "data": {
      "image/png": "[encoded data removed]",
      "text/plain": [
       "<Figure size 640x480 with 1 Axes>"
      ]
     },
     "metadata": {},
     "output_type": "display_data"
    }
   ],
   "source": [
    "\n",
    "lda_tuning.plot(x ='Topics', y='Coherence', title = 'Overall LDA Tuning',kind = 'line', xticks=range(1,11))"
   ]
  },
  {
   "cell_type": "code",
   "execution_count": 13,
   "id": "9fc3a70f-a423-4314-b282-eb567b0fad30",
   "metadata": {},
   "outputs": [
    {
     "name": "stdout",
     "output_type": "stream",
     "text": [
      "Best Parameters: Topics: 4, Alpha: asymmetric, Beta: auto\n"
     ]
    }
   ],
   "source": [
    "lda_tuning_best = lda_tuning.sort_values(by=['Coherence'], ascending=False).head(1)\n",
    "\n",
    "\n",
    "tuned_topics = int(lda_tuning_best['Topics'].to_string(index=False))\n",
    "\n",
    "\n",
    "# Since the values for Alpha and Beta can be float, symmetric and asymmetric, we will either strip or convert to float\n",
    "try:\n",
    "    tuned_alpha = float(lda_tuning_best['Alpha'].to_string(index=False))\n",
    "except:\n",
    "    tuned_alpha = lda_tuning_best['Alpha'].to_string(index=False).strip()\n",
    "    \n",
    "\n",
    "try:\n",
    "    tuned_beta = float(lda_tuning_best['Beta'].to_string(index=False))\n",
    "except:\n",
    "    tuned_beta = lda_tuning_best['Beta'].to_string(index=False).strip()    \n",
    "    \n",
    "print(f'Best Parameters: Topics: {tuned_topics}, Alpha: {tuned_alpha}, Beta: {tuned_beta}')"
   ]
  },
  {
   "cell_type": "code",
   "execution_count": 14,
   "id": "faac7a42-a607-41eb-b5e1-ae0535cbc043",
   "metadata": {},
   "outputs": [],
   "source": [
    "lda_model_4 = LdaMulticore(corpus=doc_term_matrix,\n",
    "                   id2word=dictionary,\n",
    "                   num_topics=4,\n",
    "                   random_state=100,\n",
    "                   passes=10,\n",
    "                   alpha='asymmetric',\n",
    "                   eta='auto',\n",
    "                   workers=workers)"
   ]
  },
  {
   "cell_type": "code",
   "execution_count": 15,
   "id": "1fd4d02c-a08b-4afa-8f1a-20a2e5be032f",
   "metadata": {},
   "outputs": [
    {
     "data": {
      "text/html": [
       "\n",
       "<link rel=\"stylesheet\" type=\"text/css\" href=\"https://cdn.jsdelivr.net/gh/bmabey/pyLDAvis@3.3.1/pyLDAvis/js/ldavis.v1.0.0.css\">\n",
       "\n",
       "\n",
       "<div id=\"ldavis_el103139682595638096207104035\"></div>\n",
       "<script type=\"text/javascript\">\n",
       "\n",
       "var ldavis_el103139682595638096207104035_data = {\"mdsDat\": {\"x\": [0.06119581555764247, 0.14380993657314536, -0.0794178941007705, -0.12558785803001732], \"y\": [-0.10357791109044845, 0.11400767352342203, 0.08348370293539709, -0.09391346536837071], \"topics\": [1, 2, 3, 4], \"cluster\": [1, 1, 1, 1], \"Freq\": [20.731568262522213, 11.199822227264828, 14.136186766057765, 53.932422744155204]}, \"tinfo\": {\"Term\": [\"ai\", \"market\", \"company\", \"trade\", \"solution\", \"dollar\", \"datum\", \"technology\", \"report\", \"platform\", \"industry\", \"customer\", \"analysis\", \"service\", \"forecast\", \"product\", \"business\", \"base\", \"provide\", \"growth\", \"learn\", \"support\", \"application\", \"use\", \"overviewview\", \"partner\", \"global\", \"download_multimedia\", \"power\", \"share\", \"apr_apr_apr_apr\", \"aug_aug_aug_aug\", \"jan_jan_jan_jan\", \"sep_sep_sep_sep\", \"feb_feb_feb_feb\", \"legaltech_artificial_intelligence\", \"automotive_artificial_intelligence_software\", \"mirror_homepress\", \"emailprotected_market\", \"ai_unchaine\", \"research_business_newsindustry\", \"release_servicesnewsour\", \"get_sample_copy\", \"analysismarket_outlookstocks_newsindustry_analysismarket\", \"trendsgrowth_prospect\", \"close_search_close_menu\", \"teamcontact_market\", \"new_entering\", \"reportsindustry_reportsmarket\", \"give_us_try\", \"kessler_foundation\", \"strategic_report\", \"global_industry_analysis_size\", \"contentaleje_jerozolimskie\", \"business_overview_product_offering\", \"prs_search\", \"swot_analysis_key_indicator\", \"growth_analysis\", \"done_considere\", \"menuthe_couri\", \"market_report\", \"global_machine_learne\", \"top_key_player\", \"service_market\", \"type_application\", \"top_manufacturer\", \"share_growth\", \"regulated_market\", \"aviation_market\", \"analysis_forecast\", \"sample_report\", \"forecast_period\", \"industry_analysis\", \"machine_learning_service_market\", \"bfsi_market\", \"military_market\", \"swot_analysis\", \"market_analysis\", \"key_vendor\", \"software_market\", \"key_player\", \"market_trend\", \"market_size\", \"healthcare_market\", \"top_player\", \"market_growth\", \"trends_forecast\", \"global_artificial_intelligence_ai\", \"market_player\", \"market_share\", \"report_provide\", \"major_player\", \"depth_analysis\", \"global_artificial_intelligence\", \"report_include\", \"cagr\", \"growth_forecast\", \"market\", \"forecast\", \"global_market\", \"top_companie\", \"searchsearch\", \"analysis\", \"growth\", \"report\", \"segment\", \"industry\", \"research_report\", \"global\", \"ai\", \"company\", \"datum\", \"application\", \"customer\", \"technology\", \"artificial_intelligence\", \"business\", \"product\", \"service\", \"impact\", \"solution\", \"use\", \"intelligence\", \"organization\", \"study\", \"provide\", \"platform\", \"research\", \"insight\", \"base\", \"information\", \"lead\", \"new\", \"help\", \"include\", \"make\", \"need\", \"say\", \"work\", \"netreveal\", \"link_machine_learne\", \"iluminacion_philip\", \"atmos_gear_inline_electric\", \"presently_possible\", \"busco_productos_de_consumo\", \"philips_busco_soluciones_de\", \"using_dollars_investors_seeking\", \"financial_vertical\", \"ces_electric_skates_pet\", \"soluciones_para_profesionales_de\", \"lisk_machine_learne\", \"achieves_market\", \"atmos_gear\", \"philips_intereste\", \"dot_trade\", \"btc_link\", \"free_cryptobeat\", \"aoi_system\", \"btc_drep\", \"gdax_investor\", \"machine_learning_alerts_tether\", \"ahlafor\", \"edge_ml_application\", \"circulating_supply\", \"laivly\", \"link_machine_learning\", \"ifk_kumla\", \"app_loovic_co_founder\", \"exchanges_liste\", \"overviewview\", \"receive_concise_daily_summary\", \"camping_hikingpassenger_aviationtravel_industrytravel\", \"resortsleisure_tourismoutdoor\", \"internet_protocol_wireless_unication\", \"splitventure_service\", \"release_newsproduct\", \"resourcesall_metalsoil\", \"analysts_recommendation\", \"top_exchange\", \"traded_lower\", \"technologyall_consumer_computing_internet\", \"field_list\", \"price_reache\", \"fundsprivate_placementreal_meetingsstock_offeringstock\", \"usdt_traded\", \"newsletter_previous\", \"xrp_trade\", \"reddit_community\", \"productscontact_general_demoeditorial_type\", \"companyenglish_onlynew\", \"business_techcomputer_softwaredata_design\", \"non_us_personnel_estate\", \"data_privacysend\", \"public_group_opinionanimal_presidential\", \"cision_irall_productssend_releasesign\", \"call_forecast\", \"social_policyeconomic_news_trend\", \"travelamusement_park\", \"americanafrican_americanasian\", \"ment_mediaall_entertain_ment\", \"opinionsjoint_venturesmutual\", \"pr_newswirecision_communications_cloud\", \"services_investingall_financial_service\", \"energyoil_ga\", \"focusbrowse\", \"healthconsumer_product\", \"free_daily\", \"global_robotics_artificial_intelligence\", \"latest_headline\", \"trade\", \"dollar\", \"type_searching\", \"releasesall_news_releasesall_public\", \"automatically_update\", \"uplog_demoeditorial_officessend_releasesign\", \"multimediaall_photosall\", \"branch_agencyforeign_policy_international\", \"state_executive\", \"disastersnot\", \"affairshomeland_securitylabor\", \"please_change\", \"uplog\", \"ai\", \"download_multimedia\", \"solution\", \"platform\", \"datum\", \"company\", \"learn\", \"share\", \"customer\", \"use\", \"technology\", \"usmeet\", \"power\", \"leader\", \"product\", \"team\", \"organization\", \"exchange\", \"make\", \"end\", \"base\", \"service\", \"world\", \"provide\", \"need\", \"business\", \"work\", \"partner\", \"support\", \"new\", \"system\", \"deep_learning_adaptive_computation\", \"machine_learning_series_book\", \"sejong_bot\", \"ai_healthycitie\", \"blue_wave_ai\", \"improve_urban_heart_health\", \"pactimmune_database\", \"studsvik_scandpower\", \"stroke_platform\", \"bullish_bearish\", \"botminds_document\", \"tankfreddy_awardstalk\", \"czi_prnewswire\", \"includes_stock\", \"long_position_top\", \"beatpositive_parentingthink\", \"lessons_health\", \"fileshopweekly_savingsorder\", \"matchupsnhl_score\", \"dofreddy_mondayprogram\", \"ai_bodycam\", \"calendarmobile\", \"zentist\", \"traffic_lehigh\", \"townespanol\", \"novartis_foundation\", \"social_account_facebook_twitt\", \"confirm_registration\", \"bethlehem_easton_reading_kutztown\", \"shelter_perspective\", \"channelstream\", \"camerasschool\", \"th_anniversaryfcc\", \"tv_metv\", \"tvwfmz_tv\", \"camerascameras\", \"business_closingssend\", \"dowhat\", \"photos_videosend\", \"weather_streame\", \"retro_tvorder\", \"recipesmr_foodthing\", \"missed_personsgood\", \"alertsmobile\", \"matchupsnba_score\", \"hourlocal_radar\", \"wsiradar_lightne\", \"hourlocal_radarradar\", \"fund_nav\", \"doctorthe_wisdom\", \"stocksshop_talkbusiness\", \"coal_pawestern_new\", \"calendarsend_us\", \"awardstalk\", \"ein_presswire\", \"nav\", \"minnesota_us\", \"public_inspection\", \"news_weather\", \"african_us\", \"republiceast_u\", \"us_u\", \"dashboard_logoutmy_account_dashboard\", \"us_state\", \"press_release\", \"solution\", \"stock\", \"company\", \"ai\", \"technology\", \"platform\", \"support\", \"news\", \"copy\", \"base\", \"provide\", \"service\", \"partner\", \"datum\", \"use\", \"new\", \"industry\", \"business\", \"information\", \"system\", \"work\", \"include\", \"learn\", \"market\", \"world\", \"time\", \"make\", \"year\", \"help\", \"customer\", \"product\", \"need\", \"also\", \"resize_https_media_nbcboston\", \"media_nbcwashington_com\", \"blanca_rozo_post\", \"media_nbcchicago_com\", \"media_nbcchicago_com_gettyimage\", \"link_open\", \"media_nbcwashington_com_gettyimage\", \"tim_ferriss\", \"met_gala\", \"eliezer\", \"tolerance_ca\", \"news_group_newspaper\", \"must_die_ap_photo\", \"switzerland_thursday_jan\", \"hire_designer\", \"macaskill\", \"murano\", \"nbcsandiego_com\", \"government_working_together\", \"nuclear_disaster\", \"fh_vital\", \"think_wow\", \"pulling_barnacle\", \"tom_temin\", \"waxing_floor\", \"nbcboston_com_gettyimages_jpg\", \"important_stake\", \"otherwise_referre\", \"lampoon\", \"cookie_use\", \"cookie_set\", \"dress\", \"jpeg_source_url_https_media\", \"strip\", \"world_economic_forum_davos\", \"wineinvest\", \"alternative_investinginvest\", \"joke\", \"buy_cryptocurrency\", \"portfolio_trackersbest\", \"blockchainbest_altcoinshow\", \"trading_strategiesb\", \"deficrypto\", \"person_head\", \"indicates_way\", \"kim_kardashian\", \"deeply_concerne\", \"crypto_day\", \"bitcoin_good\", \"crypto_irab\", \"automatically_post\", \"mortgage_brokeralt\", \"mailonline\", \"get_startedis\", \"cryptocurrency_scannersbest\", \"height_filesize_mime_type_image\", \"investmentsbest_alternative\", \"insist\", \"accuse\", \"scam\", \"sex\", \"site_constitute\", \"husband\", \"year_old\", \"ban\", \"argue\", \"chatgpt\", \"kill\", \"movie\", \"arrest\", \"artist\", \"cheat\", \"say\", \"think\", \"police\", \"fire\", \"tell\", \"bad\", \"admit\", \"warn\", \"maybe\", \"seem\", \"write\", \"self_driving_car\", \"weapon\", \"woman\", \"reveal\", \"fear\", \"friend\", \"human\", \"game\", \"go\", \"show\", \"word\", \"rule\", \"get\", \"thing\", \"lot\", \"call\", \"claim\", \"take\", \"even\", \"want\", \"question\", \"people\", \"see\", \"image\", \"still\", \"ask\", \"know\", \"come\", \"use\", \"make\", \"story\", \"work\", \"day\", \"look\", \"new\", \"find\", \"right\", \"way\", \"need\", \"time\", \"ai\", \"also\", \"give\", \"technology\", \"year\", \"create\", \"company\", \"system\", \"world\", \"help\", \"datum\", \"well\", \"news\", \"business\", \"model\"], \"Freq\": [507166.0, 142568.0, 223315.0, 36519.0, 89503.0, 29143.0, 158856.0, 216690.0, 90403.0, 80020.0, 82755.0, 62235.0, 47902.0, 85652.0, 28792.0, 69478.0, 106852.0, 86956.0, 79660.0, 37124.0, 78630.0, 73290.0, 59716.0, 282331.0, 9948.0, 43711.0, 49065.0, 21482.0, 60328.0, 69308.0, 1208.626318418315, 1135.3127964138962, 894.1718331389766, 366.39791622877283, 279.4002713487827, 608.4969817080063, 303.43361804219734, 1738.7065187123974, 886.8876553935628, 204.20303986381478, 689.5509738744884, 1346.0455688425004, 1437.1168086707955, 671.0563780581093, 545.8582271150442, 1390.413468920536, 870.9295867440884, 222.25322952018374, 545.6736405413459, 565.0206907162591, 123.28680591582855, 345.21020929405074, 577.4240694389065, 392.3258623113934, 178.99634484217344, 624.8238039899371, 179.65851421573785, 1751.0009633889001, 229.16748248726626, 1456.137895737155, 11340.409529696208, 2887.2329869559826, 2093.245726449246, 3090.192636976343, 1718.9357584478585, 1489.346418728619, 1602.6262201390919, 1868.7543322836025, 1299.8573934388353, 1349.292894156457, 1450.6738534790577, 6065.829727608993, 2497.1651987699206, 1373.3186546213692, 1090.741291751539, 1216.295331202227, 1403.1155422806225, 4339.178669895485, 1198.214936470162, 1246.3816841702344, 8237.363234628045, 5377.668606731465, 4106.503378275961, 3350.0706757030907, 3644.1369446450376, 3495.1227207880156, 1900.6174708617698, 4403.797115491361, 1713.7291585247447, 5495.156282830692, 1980.4908780673063, 2283.990779470059, 4084.370049706397, 6762.475677990854, 2043.680875291722, 6722.948420969744, 1862.982645736008, 104118.29207014584, 23342.39971365738, 4542.827163447691, 3272.7107223427465, 2864.8191427297224, 30451.93171139632, 24299.31664842667, 47078.94210395353, 7117.914465597855, 40280.862472662535, 2790.528920025307, 23725.426922439987, 143112.78525388928, 72347.17493314638, 53786.42440746037, 24898.851602385836, 24923.8457431711, 57394.02020242881, 24119.773203663077, 33447.61518360924, 24808.122267233823, 27577.354930833626, 16239.569886603456, 26805.66670729784, 52595.30626539566, 15432.882929987962, 15765.22042821999, 15613.806858581516, 22575.33174799659, 22589.443111879205, 18285.738905005644, 14038.025958820579, 22346.350425264052, 20451.478631023583, 19233.15354670224, 24947.266982607147, 20422.457146812176, 19581.527702715877, 22330.514015947243, 20335.2606868101, 22217.370277215716, 20398.877051052095, 300.42189671440826, 1467.6678837690954, 907.8196634855024, 420.330010386276, 421.69657985438346, 907.2842767793758, 907.4417123509247, 769.6497034180487, 150.00215169678427, 280.9527106136384, 907.0810609984416, 1542.0919996085931, 862.114545730904, 252.26340167442942, 755.7662127903449, 670.6429749469121, 314.8479130412864, 1798.7703018962677, 300.5735153286592, 551.1202913547196, 453.98768076217596, 558.9679711090781, 268.7194794396751, 355.3749189444117, 1159.066287464936, 284.6012271028568, 274.333485364007, 270.1985541500711, 206.57271299572636, 971.8992650815502, 9769.714856467275, 3175.9789093570585, 3208.099089928656, 3232.9563838166064, 3273.1508032975894, 3250.626335920884, 2399.2156715226133, 3206.483939967179, 2429.3988808588383, 1276.8327032224975, 1531.658493472972, 1890.3408436832126, 2882.859560398785, 1682.2584602926001, 2216.1842791434883, 910.501280799934, 891.3517062847355, 883.3811149781168, 958.1252390139109, 1755.2354380281665, 2602.7369560323027, 2199.6410036774455, 2056.1479988679157, 2035.87854675548, 2079.5235550877455, 1917.1500666967304, 3267.006283313179, 2103.8261983200755, 1806.4964299065657, 1834.0119977348547, 4960.326178949997, 3348.000690193349, 8889.512821969929, 3420.885503150945, 3462.7748480077794, 3614.0450491799907, 4374.764967696431, 4541.762710504749, 2117.423373776872, 3162.3261328538797, 29069.561473619415, 23368.76443114242, 2936.5792365917882, 3008.2598638437744, 3212.291227518099, 3321.389545907567, 2800.0523780988024, 3678.5192973335106, 3668.0847335692897, 3642.461716575188, 3620.0762518144375, 3716.278451418882, 3308.973288327188, 69938.90755201266, 9458.81374895276, 20405.257668223752, 16424.122423645844, 19514.20980352672, 22022.416519680835, 12693.017832337362, 11700.31191535965, 11116.265228260794, 20543.69460396772, 17901.690013287334, 5938.287242350484, 10211.112828558727, 7815.179129670652, 10590.600848581431, 9708.648589841452, 7872.675446503232, 4649.799471959761, 12252.442393116844, 8271.7223433092, 9981.546382153874, 9558.061616744619, 9564.922302380797, 9098.150309285562, 10023.27496746356, 9325.848077044622, 9668.333600700107, 7550.550179929952, 8259.910747108226, 8888.294433823123, 8170.217193906073, 215.25377876389993, 197.70195358831532, 418.81897478193497, 261.48339193352086, 195.8112936606447, 194.12983432965987, 185.0122663690327, 147.88939879553396, 211.14518965241706, 708.848665364538, 177.730102298802, 1417.9644095218364, 293.7601405572095, 244.9315866111228, 214.49461611546647, 1991.9461033430352, 1992.471679317936, 1588.856505694545, 1334.8432151038471, 728.1991961262121, 172.61621325982017, 832.8812581480693, 223.19849084965983, 544.7883417313193, 1290.9092781264808, 202.77180227834808, 485.80378534498783, 242.85884159254695, 985.0024160052998, 660.365044489787, 5053.764654002621, 5054.332184518334, 5051.958701723118, 5056.694987975888, 5052.135292199445, 4224.73606226708, 5048.130921981388, 4789.4407489536625, 5048.148848012463, 4219.88421032462, 4149.66947222641, 2584.433849765221, 2236.618310773149, 3652.750355725017, 3214.5218277705835, 2525.164288555055, 2525.3485071297114, 2524.5315377986253, 2570.9000777090714, 2223.365252735524, 1645.824192882564, 2055.45021263835, 1439.1970305194643, 2497.8566500478355, 2595.8172609022927, 1935.0938864934787, 2076.2171382329634, 5162.264817616451, 5084.076046929528, 2073.060821846686, 2072.431694436963, 4290.058519501683, 3120.7728807062863, 2253.7840111464184, 6325.078396384208, 24063.277084403642, 8749.467687206146, 36652.91483345552, 57649.786400971614, 33572.34088673081, 16994.83859878778, 16072.651856203562, 16837.412956703465, 6244.603484627941, 16509.416933493485, 15696.006873087541, 16110.029538017976, 11272.358993161477, 20963.69849350088, 26560.086396550843, 19528.828787812494, 14738.727826948418, 16262.965281425566, 12819.872064071344, 14147.945341907784, 15309.753537315717, 12427.947237191556, 12051.480751576444, 14246.425616960936, 12370.826511280802, 12589.984064716038, 13789.346913819629, 11527.332756683085, 11536.172197027276, 10331.589440236829, 10444.939167363622, 11788.197700544542, 11272.159899795077, 245.37312378886983, 212.4922980011376, 185.8251922525667, 173.21591686587234, 154.87819832707302, 988.594746977512, 142.48679563090352, 170.92978264624455, 251.2212747119754, 140.4221833130533, 392.2874812857082, 670.7699556118502, 356.0358983898747, 628.3705317398134, 367.4089096765688, 123.7017133499944, 714.8025890957607, 468.3063949652812, 227.4510856533599, 239.57910851680936, 271.0157106361733, 471.86356879027403, 237.96586156836162, 172.62064070130398, 227.38094349314397, 104.55691660659704, 370.93586666819795, 433.32225930485674, 610.5282305754143, 2376.4438538303743, 2222.6605894030095, 3507.9781828406117, 2751.4578107036973, 3356.2561202532906, 1353.3523512074748, 1681.3742893217798, 1680.7965998544325, 2141.5863472076985, 1685.6420248294528, 1680.8679015771024, 1680.755128444308, 1680.6368985470235, 1680.733665170647, 1635.8586891416217, 1384.1070396577313, 1153.8954223218893, 1126.8007677072633, 1686.9387339644397, 1679.5117137091738, 1678.8965544589948, 1040.236383812432, 1546.7298987746883, 1077.052537204318, 1520.4203816241065, 1497.9769821147295, 1526.2914054850328, 1451.6550540350906, 1746.8099901650382, 4147.818742592449, 2698.348940843476, 1742.8487429295567, 1726.990293968555, 1791.4990724171025, 6685.506349260993, 6880.535477547197, 4304.382774203947, 18774.808739457603, 6857.881174090279, 4886.481671043504, 5225.661055510627, 8328.44719114211, 2421.7113531183845, 173142.47954747302, 38304.452438393295, 7229.446092021587, 9085.077062353124, 20506.244477564058, 6577.4507712603, 4431.78767530208, 9039.348648357854, 4380.59340220927, 8647.63008024327, 26599.867223686222, 4814.9478539904585, 3205.552289919814, 17836.523178372616, 19666.171946476898, 6598.012587427431, 5576.1781414508905, 39702.03604931212, 22925.418798978866, 62148.98536588209, 45147.47084114986, 13093.404534286265, 12875.260551620182, 72525.55707907556, 24598.780011539147, 19379.834414194283, 35134.406951225974, 19997.250582166384, 57452.98406424587, 41131.64431967018, 45924.714913467105, 19997.06141433073, 59900.85660146678, 73560.74750181795, 38088.710887240035, 20965.031774241623, 21592.47529264065, 53233.4005015703, 50262.98237623281, 182632.70973211524, 106211.88424836032, 24413.17435174297, 94141.3582209897, 38830.659151698404, 43155.62666048034, 96201.25625810481, 44955.305422868034, 29313.875623478965, 50004.57911272769, 74342.69166728265, 67502.98224651285, 236464.89336984558, 65146.11981016289, 37823.35788848038, 107822.55815045883, 55603.00411922024, 49280.91028174241, 92292.99638852752, 55613.92928929793, 53635.62952566133, 51570.795663172816, 64592.31205449848, 47936.63707718564, 48639.76810176754, 47815.851958982545, 45183.24975455826], \"Total\": [507166.0, 142568.0, 223315.0, 36519.0, 89503.0, 29143.0, 158856.0, 216690.0, 90403.0, 80020.0, 82755.0, 62235.0, 47902.0, 85652.0, 28792.0, 69478.0, 106852.0, 86956.0, 79660.0, 37124.0, 78630.0, 73290.0, 59716.0, 282331.0, 9948.0, 43711.0, 49065.0, 21482.0, 60328.0, 69308.0, 1209.7633656197515, 1136.5244306725751, 895.383056481422, 367.3374732240034, 280.257232210188, 611.300612261829, 305.1564395940123, 1748.6688157231106, 892.0311287625012, 205.3953199571341, 693.5954003013579, 1353.9855136106416, 1445.6605694566092, 675.054766965549, 549.153645667225, 1398.8563282826588, 876.2804287266953, 223.65114082254476, 549.1126419749038, 568.5927562349759, 124.07210986442549, 347.4147694480797, 581.1674269467007, 394.89773200034966, 180.17746627129725, 628.9810072716706, 180.8693882040755, 1762.8592415220567, 230.72643634141602, 1466.0457865506817, 11493.930623488006, 2913.7315720158695, 2108.607597463437, 3128.326879167027, 1734.9397549230812, 1501.0847743148856, 1616.5179459434385, 1888.0214383859593, 1309.1785100119434, 1359.5501049837612, 1463.0005689972259, 6209.671736549391, 2534.145936841815, 1385.3725788766158, 1098.448824026255, 1226.3079392283614, 1417.0226659939437, 4432.690283826838, 1208.7482036518181, 1257.969936109318, 8478.659803909746, 5524.874196822459, 4196.450226883825, 3427.581883714801, 3740.859956609861, 3590.6412418037808, 1931.6717316236925, 4598.180224980646, 1738.6381246110107, 5844.172809755457, 2022.9055277503999, 2349.888534164371, 4349.693055348606, 7430.058719407531, 2100.517637342255, 7459.9296042192955, 1905.1145020594727, 142568.02093524588, 28792.783274641763, 5103.248526879539, 3553.0604517643706, 3119.258876869176, 47902.756106801986, 37124.28169328899, 90403.69899851122, 9375.317883577234, 82755.86096589146, 3120.2301812941137, 49065.83315591165, 507166.37257671915, 223315.50267481024, 158856.64475898645, 59716.951511538835, 62235.536290574906, 216690.60925290576, 62390.99522082678, 106852.28050106198, 69478.22327850189, 85652.61161935677, 39614.85853852854, 89503.90707443297, 282331.79699802946, 37828.5494645554, 39285.790974021475, 39128.42741759123, 79660.0077561164, 80020.1599733837, 55371.75540562176, 33301.47204688944, 86956.81824152173, 73927.9427357899, 67965.37370283349, 149565.6464623476, 89791.64092378825, 81787.48222266954, 154584.18757124402, 116489.42502210086, 206894.3970247369, 139518.32241005762, 302.124769208137, 1477.903960477569, 914.8341121423506, 423.59938059364976, 425.07595369717495, 914.6048546102493, 914.7794762194688, 775.8851130785266, 151.22147465996872, 283.25401866179885, 914.6011105438392, 1555.164641965898, 869.4461359337071, 254.42617362540122, 762.2692005032743, 676.4417197491549, 317.57399245475074, 1814.3775271763318, 303.19751439572485, 555.9349907109145, 457.96046950452944, 563.8776014142918, 271.12736454099024, 358.5660261496495, 1169.5141157603373, 287.17254117576545, 276.813148523751, 272.64203602083444, 208.44123284613897, 980.6928701642896, 9948.842144922868, 3215.4773408146616, 3262.616720853249, 3290.14314250648, 3332.525417912524, 3311.6099892585344, 2437.154155179717, 3266.8055643132434, 2471.727890189445, 1290.7499714419325, 1552.0481516782368, 1920.2783042027966, 2941.806978055123, 1707.5335831860305, 2256.127898843546, 918.7876114765734, 899.4325867650573, 891.5406857272072, 967.9211349391892, 1784.153033509047, 2659.6114934398197, 2241.6578436141813, 2094.031969629169, 2074.3652880192158, 2119.9332623486443, 1953.3251612642825, 3365.0998268364797, 2148.4898564734776, 1839.5386639840513, 1868.8264788885722, 5161.7632896642335, 3456.561856030752, 9509.832753484681, 3569.429337639789, 3623.743313308372, 3806.823370829947, 4665.040981476887, 4882.475154719106, 2174.7666640320813, 3333.6918225466916, 36519.1046211295, 29143.074585188904, 3112.0294092830254, 3199.9221088458066, 3492.0800616261045, 3651.8673160495705, 2995.099374222407, 4262.610603588522, 4260.964491229425, 4234.370151232737, 4219.810871343939, 4616.233803507957, 3892.373447851153, 507166.37257671915, 21482.303712527915, 89503.90707443297, 80020.1599733837, 158856.64475898645, 223315.50267481024, 78630.1979441646, 69308.59655387641, 62235.536290574906, 282331.79699802946, 216690.60925290576, 14528.026686627305, 60328.91252219635, 30515.977026511588, 69478.22327850189, 66321.8214364722, 39285.790974021475, 8729.460144913792, 154584.18757124402, 48274.35437009367, 86956.81824152173, 85652.61161935677, 92426.25694163796, 79660.0077561164, 116489.42502210086, 106852.28050106198, 139518.32241005762, 43711.40949429533, 73290.14658118655, 149565.6464623476, 96269.72640628283, 216.02583285719598, 198.4740059820565, 421.57782481089464, 263.422674820646, 197.3453478086721, 195.7042492781775, 186.60088740530617, 149.18738616411557, 213.01681597018296, 715.2923822174746, 179.35308319376875, 1430.9497670628487, 296.47089441713536, 247.21501252907007, 216.49518418217932, 2010.6664891423247, 2011.2156275644493, 1604.2668450101846, 1347.8520155686736, 735.317846158809, 174.3130701835252, 841.0709861919349, 225.39656334641475, 550.173041333898, 1303.7011935522667, 204.7822125162579, 490.62816003822445, 245.27214527834698, 994.8156995373349, 666.9541012579522, 5112.555594747204, 5113.341695673438, 5113.521600467408, 5118.516627596468, 5114.82930254651, 4270.213776595845, 5112.759327888572, 4851.119017743533, 5116.328069937765, 4269.29280276809, 4198.339081017282, 2612.284553451308, 2258.9864281766068, 3708.7859757369, 3261.251479437787, 2556.7505175134625, 2557.525574407717, 2557.2619656035668, 2606.386982189613, 2250.8735038909526, 1663.0564407934562, 2083.6360851693103, 1454.6645125204611, 2540.086283835146, 2648.011217338205, 1973.5812950169093, 2125.3436387945058, 5523.286666118505, 5438.075813233996, 2125.431271837985, 2126.67611620087, 4851.227545969076, 3582.7269788049966, 2409.5677039798934, 11258.579973390075, 89503.90707443297, 19750.760466923784, 223315.50267481024, 507166.37257671915, 216690.60925290576, 80020.1599733837, 73290.14658118655, 87627.82821605151, 13714.147424827108, 86956.81824152173, 79660.0077561164, 85652.61161935677, 43711.40949429533, 158856.64475898645, 282331.79699802946, 149565.6464623476, 82755.86096589146, 106852.28050106198, 73927.9427357899, 96269.72640628283, 139518.32241005762, 81787.48222266954, 78630.1979441646, 142568.02093524588, 92426.25694163796, 103450.79670841788, 154584.18757124402, 87674.1825350834, 89791.64092378825, 62235.536290574906, 69478.22327850189, 116489.42502210086, 99582.03415181403, 246.0779795792361, 213.19713018868438, 186.53127208146984, 173.9209970690429, 155.58323993850036, 993.3871850664091, 143.19158697037383, 171.82425580291516, 252.68441701778565, 141.24895222360882, 394.6717428659878, 674.863461145127, 358.2159704958533, 632.2834930685485, 369.73024746243055, 124.49208703109986, 719.4048781540198, 471.3372799072846, 228.9252333622004, 241.1332194132239, 272.77757208157686, 474.9525696534973, 239.5238701551734, 173.7525262690647, 228.894921238061, 105.26168758259995, 373.4408063421739, 436.2592615828728, 614.6683109513697, 2392.6480415951155, 2239.818962522776, 3556.490281404782, 2787.856328362484, 3416.309540253112, 1365.1290219919758, 1701.0446077619624, 1700.463455629969, 2172.091295291712, 1705.531887880356, 1700.663274761749, 1700.6987955822542, 1700.6671046726756, 1700.9875932854295, 1655.224849060902, 1398.330425664634, 1163.6542052566972, 1136.061601974252, 1707.9986034292183, 1700.4091853876264, 1700.145956326418, 1048.349369691193, 1565.3012949216518, 1086.1671795229756, 1538.9608978735591, 1516.0945399075592, 1545.5127031532277, 1469.4927636496313, 1771.872522036079, 4266.174208887821, 2757.5509003973543, 1768.6288688838927, 1752.8807123857503, 1821.5926629797525, 7000.358114616392, 7227.937868436349, 4464.473538338542, 20396.52700925788, 7229.043164911877, 5100.908577295446, 5470.896841538808, 8851.786965665931, 2477.656189301716, 206894.3970247369, 43219.497668886106, 7670.33919269681, 9736.150783742427, 22796.81655558607, 6991.473358878432, 4635.71557542614, 9746.679064455573, 4583.76922341173, 9308.898915029265, 30029.062235318703, 5062.923217492437, 3316.3541382453022, 19832.001827639924, 22167.292789137016, 7057.125863543421, 5913.941785717578, 46812.09780759568, 26239.31776894335, 76197.78700166634, 54272.478840864555, 14557.522354015658, 14302.928768732485, 90041.54360748551, 28519.796244585646, 22169.684588827644, 42268.83847411659, 23192.527169143832, 72505.54191188088, 50461.16431583253, 57171.36307137161, 23283.521361245344, 76759.69961181769, 96397.41900679129, 47413.23795049593, 24697.559830280097, 25528.05745397069, 69869.8130471124, 66149.92248225634, 282331.79699802946, 154584.18757124402, 29471.03615329966, 139518.32241005762, 50406.72608173683, 57296.982878249604, 149565.6464623476, 60896.06337984935, 36709.144553913924, 70793.37484609784, 116489.42502210086, 103450.79670841788, 507166.37257671915, 99582.03415181403, 50634.0854950706, 216690.60925290576, 87674.1825350834, 75166.16061261807, 223315.50267481024, 96269.72640628283, 92426.25694163796, 89791.64092378825, 158856.64475898645, 81261.07814499523, 87627.82821605151, 106852.28050106198, 70939.05588198926], \"Category\": [\"Default\", \"Default\", \"Default\", \"Default\", \"Default\", \"Default\", \"Default\", \"Default\", \"Default\", \"Default\", \"Default\", \"Default\", \"Default\", \"Default\", \"Default\", \"Default\", \"Default\", \"Default\", \"Default\", \"Default\", \"Default\", \"Default\", \"Default\", \"Default\", \"Default\", \"Default\", \"Default\", \"Default\", \"Default\", \"Default\", \"Topic1\", \"Topic1\", \"Topic1\", \"Topic1\", \"Topic1\", \"Topic1\", \"Topic1\", \"Topic1\", \"Topic1\", \"Topic1\", \"Topic1\", \"Topic1\", \"Topic1\", \"Topic1\", \"Topic1\", \"Topic1\", \"Topic1\", \"Topic1\", \"Topic1\", \"Topic1\", \"Topic1\", \"Topic1\", \"Topic1\", \"Topic1\", \"Topic1\", \"Topic1\", \"Topic1\", \"Topic1\", \"Topic1\", \"Topic1\", \"Topic1\", \"Topic1\", \"Topic1\", \"Topic1\", \"Topic1\", \"Topic1\", \"Topic1\", \"Topic1\", \"Topic1\", \"Topic1\", \"Topic1\", \"Topic1\", \"Topic1\", \"Topic1\", \"Topic1\", \"Topic1\", \"Topic1\", \"Topic1\", \"Topic1\", \"Topic1\", \"Topic1\", \"Topic1\", \"Topic1\", \"Topic1\", \"Topic1\", \"Topic1\", \"Topic1\", \"Topic1\", \"Topic1\", \"Topic1\", \"Topic1\", \"Topic1\", \"Topic1\", \"Topic1\", \"Topic1\", \"Topic1\", \"Topic1\", \"Topic1\", \"Topic1\", \"Topic1\", \"Topic1\", \"Topic1\", \"Topic1\", \"Topic1\", \"Topic1\", \"Topic1\", \"Topic1\", \"Topic1\", \"Topic1\", \"Topic1\", \"Topic1\", \"Topic1\", \"Topic1\", \"Topic1\", \"Topic1\", \"Topic1\", \"Topic1\", \"Topic1\", \"Topic1\", \"Topic1\", \"Topic1\", \"Topic1\", \"Topic1\", \"Topic1\", \"Topic1\", \"Topic1\", \"Topic1\", \"Topic1\", \"Topic1\", \"Topic1\", \"Topic1\", \"Topic1\", \"Topic1\", \"Topic1\", \"Topic1\", \"Topic1\", \"Topic1\", \"Topic1\", \"Topic1\", \"Topic2\", \"Topic2\", \"Topic2\", \"Topic2\", \"Topic2\", \"Topic2\", \"Topic2\", \"Topic2\", \"Topic2\", \"Topic2\", \"Topic2\", \"Topic2\", \"Topic2\", \"Topic2\", \"Topic2\", \"Topic2\", \"Topic2\", \"Topic2\", \"Topic2\", \"Topic2\", \"Topic2\", \"Topic2\", \"Topic2\", \"Topic2\", \"Topic2\", \"Topic2\", \"Topic2\", \"Topic2\", \"Topic2\", \"Topic2\", \"Topic2\", \"Topic2\", \"Topic2\", \"Topic2\", \"Topic2\", \"Topic2\", \"Topic2\", \"Topic2\", \"Topic2\", \"Topic2\", \"Topic2\", \"Topic2\", \"Topic2\", \"Topic2\", \"Topic2\", \"Topic2\", \"Topic2\", \"Topic2\", \"Topic2\", \"Topic2\", \"Topic2\", \"Topic2\", \"Topic2\", \"Topic2\", \"Topic2\", \"Topic2\", \"Topic2\", \"Topic2\", \"Topic2\", \"Topic2\", \"Topic2\", \"Topic2\", \"Topic2\", \"Topic2\", \"Topic2\", \"Topic2\", \"Topic2\", \"Topic2\", \"Topic2\", \"Topic2\", \"Topic2\", \"Topic2\", \"Topic2\", \"Topic2\", \"Topic2\", \"Topic2\", \"Topic2\", \"Topic2\", \"Topic2\", \"Topic2\", \"Topic2\", \"Topic2\", \"Topic2\", \"Topic2\", \"Topic2\", \"Topic2\", \"Topic2\", \"Topic2\", \"Topic2\", \"Topic2\", \"Topic2\", \"Topic2\", \"Topic2\", \"Topic2\", \"Topic2\", \"Topic2\", \"Topic2\", \"Topic2\", \"Topic2\", \"Topic2\", \"Topic2\", \"Topic2\", \"Topic2\", \"Topic2\", \"Topic2\", \"Topic2\", \"Topic2\", \"Topic2\", \"Topic2\", \"Topic2\", \"Topic2\", \"Topic2\", \"Topic2\", \"Topic2\", \"Topic3\", \"Topic3\", \"Topic3\", \"Topic3\", \"Topic3\", \"Topic3\", \"Topic3\", \"Topic3\", \"Topic3\", \"Topic3\", \"Topic3\", \"Topic3\", \"Topic3\", \"Topic3\", \"Topic3\", \"Topic3\", \"Topic3\", \"Topic3\", \"Topic3\", \"Topic3\", \"Topic3\", \"Topic3\", \"Topic3\", \"Topic3\", \"Topic3\", \"Topic3\", \"Topic3\", \"Topic3\", \"Topic3\", \"Topic3\", \"Topic3\", \"Topic3\", \"Topic3\", \"Topic3\", \"Topic3\", \"Topic3\", \"Topic3\", \"Topic3\", \"Topic3\", \"Topic3\", \"Topic3\", \"Topic3\", \"Topic3\", \"Topic3\", \"Topic3\", \"Topic3\", \"Topic3\", \"Topic3\", \"Topic3\", \"Topic3\", \"Topic3\", \"Topic3\", \"Topic3\", \"Topic3\", \"Topic3\", \"Topic3\", \"Topic3\", \"Topic3\", \"Topic3\", \"Topic3\", \"Topic3\", \"Topic3\", \"Topic3\", \"Topic3\", \"Topic3\", \"Topic3\", \"Topic3\", \"Topic3\", \"Topic3\", \"Topic3\", \"Topic3\", \"Topic3\", \"Topic3\", \"Topic3\", \"Topic3\", \"Topic3\", \"Topic3\", \"Topic3\", \"Topic3\", \"Topic3\", \"Topic3\", \"Topic3\", \"Topic3\", \"Topic3\", \"Topic3\", \"Topic3\", \"Topic3\", \"Topic3\", \"Topic3\", \"Topic3\", \"Topic3\", \"Topic3\", \"Topic3\", \"Topic3\", \"Topic3\", \"Topic3\", \"Topic3\", \"Topic3\", \"Topic4\", \"Topic4\", \"Topic4\", \"Topic4\", \"Topic4\", \"Topic4\", \"Topic4\", \"Topic4\", \"Topic4\", \"Topic4\", \"Topic4\", \"Topic4\", \"Topic4\", \"Topic4\", \"Topic4\", \"Topic4\", \"Topic4\", \"Topic4\", \"Topic4\", \"Topic4\", \"Topic4\", \"Topic4\", \"Topic4\", \"Topic4\", \"Topic4\", \"Topic4\", \"Topic4\", \"Topic4\", \"Topic4\", \"Topic4\", \"Topic4\", \"Topic4\", \"Topic4\", \"Topic4\", \"Topic4\", \"Topic4\", \"Topic4\", \"Topic4\", \"Topic4\", \"Topic4\", \"Topic4\", \"Topic4\", \"Topic4\", \"Topic4\", \"Topic4\", \"Topic4\", \"Topic4\", \"Topic4\", \"Topic4\", \"Topic4\", \"Topic4\", \"Topic4\", \"Topic4\", \"Topic4\", \"Topic4\", \"Topic4\", \"Topic4\", \"Topic4\", \"Topic4\", \"Topic4\", \"Topic4\", \"Topic4\", \"Topic4\", \"Topic4\", \"Topic4\", \"Topic4\", \"Topic4\", \"Topic4\", \"Topic4\", \"Topic4\", \"Topic4\", \"Topic4\", \"Topic4\", \"Topic4\", \"Topic4\", \"Topic4\", \"Topic4\", \"Topic4\", \"Topic4\", \"Topic4\", \"Topic4\", \"Topic4\", \"Topic4\", \"Topic4\", \"Topic4\", \"Topic4\", \"Topic4\", \"Topic4\", \"Topic4\", \"Topic4\", \"Topic4\", \"Topic4\", \"Topic4\", \"Topic4\", \"Topic4\", \"Topic4\", \"Topic4\", \"Topic4\", \"Topic4\", \"Topic4\", \"Topic4\", \"Topic4\", \"Topic4\", \"Topic4\", \"Topic4\", \"Topic4\", \"Topic4\", \"Topic4\", \"Topic4\", \"Topic4\", \"Topic4\", \"Topic4\", \"Topic4\", \"Topic4\", \"Topic4\", \"Topic4\", \"Topic4\", \"Topic4\", \"Topic4\", \"Topic4\", \"Topic4\", \"Topic4\", \"Topic4\", \"Topic4\", \"Topic4\", \"Topic4\", \"Topic4\", \"Topic4\", \"Topic4\", \"Topic4\", \"Topic4\", \"Topic4\", \"Topic4\", \"Topic4\", \"Topic4\", \"Topic4\", \"Topic4\", \"Topic4\"], \"logprob\": [30.0, 29.0, 28.0, 27.0, 26.0, 25.0, 24.0, 23.0, 22.0, 21.0, 20.0, 19.0, 18.0, 17.0, 16.0, 15.0, 14.0, 13.0, 12.0, 11.0, 10.0, 9.0, 8.0, 7.0, 6.0, 5.0, 4.0, 3.0, 2.0, 1.0, -8.981, -9.0436, -9.2824, -10.1746, -10.4456, -9.6673, -10.3631, -8.6174, -9.2906, -10.7592, -9.5422, -8.8733, -8.8079, -9.5694, -9.7759, -8.8409, -9.3087, -10.6745, -9.7763, -9.7414, -11.2638, -10.2341, -9.7197, -10.1062, -10.8909, -9.6408, -10.8872, -8.6103, -10.6438, -8.7947, -6.7421, -8.1102, -8.4318, -8.0423, -8.6288, -8.7722, -8.6989, -8.5452, -8.9083, -8.8709, -8.7985, -7.3678, -8.2554, -8.8533, -9.0837, -8.9747, -8.8318, -7.7028, -8.9897, -8.9503, -7.0618, -7.4883, -7.7579, -7.9615, -7.8774, -7.9192, -8.5283, -7.6881, -8.6318, -7.4667, -8.4872, -8.3446, -7.7634, -7.2591, -8.4558, -7.265, -8.5483, -4.525, -6.0202, -7.657, -7.9849, -8.118, -5.7544, -5.9801, -5.3187, -7.2079, -5.4746, -8.1443, -6.004, -4.2069, -4.889, -5.1855, -5.9557, -5.9547, -5.1206, -5.9875, -5.6605, -5.9593, -5.8535, -6.3831, -5.8819, -5.2079, -6.434, -6.4127, -6.4224, -6.0537, -6.053, -6.2644, -6.5287, -6.0639, -6.1525, -6.2139, -5.9538, -6.1539, -6.1959, -6.0646, -6.1582, -6.0696, -6.155, -9.7573, -8.1711, -8.6515, -9.4215, -9.4182, -8.6521, -8.6519, -8.8166, -10.4519, -9.8243, -8.6523, -8.1216, -8.7031, -9.932, -8.8348, -8.9543, -9.7104, -7.9677, -9.7568, -9.1506, -9.3444, -9.1364, -9.8688, -9.5893, -8.4071, -9.8114, -9.8482, -9.8634, -10.1319, -8.5833, -6.2755, -7.3991, -7.3891, -7.3814, -7.369, -7.3759, -7.6796, -7.3896, -7.6671, -8.3104, -8.1284, -7.918, -7.496, -8.0346, -7.759, -8.6485, -8.6698, -8.6788, -8.5975, -7.9922, -7.5982, -7.7665, -7.8339, -7.8438, -7.8226, -7.9039, -7.3709, -7.811, -7.9634, -7.9483, -6.9533, -7.3464, -6.3699, -7.3249, -7.3127, -7.2699, -7.0789, -7.0414, -7.8046, -7.4035, -5.1851, -5.4034, -7.4775, -7.4534, -7.3878, -7.3544, -7.5251, -7.2522, -7.2551, -7.2621, -7.2683, -7.242, -7.3581, -4.3071, -6.3078, -5.539, -5.756, -5.5836, -5.4627, -6.0137, -6.0951, -6.1464, -5.5322, -5.6699, -6.7733, -6.2313, -6.4987, -6.1948, -6.2817, -6.4914, -7.0179, -6.049, -6.4419, -6.254, -6.2974, -6.2967, -6.3467, -6.2498, -6.322, -6.2859, -6.5331, -6.4433, -6.37, -6.4543, -10.3235, -10.4086, -9.6579, -10.129, -10.4182, -10.4268, -10.4749, -10.6989, -10.3428, -9.1317, -10.5151, -8.4384, -10.0126, -10.1944, -10.3271, -8.0985, -8.0982, -8.3246, -8.4988, -9.1048, -10.5443, -8.9705, -10.2873, -9.395, -8.5323, -10.3833, -9.5096, -10.2029, -8.8027, -9.2026, -7.1675, -7.1674, -7.1678, -7.1669, -7.1678, -7.3466, -7.1686, -7.2212, -7.1686, -7.3478, -7.3646, -7.8381, -7.9826, -7.4921, -7.6199, -7.8613, -7.8612, -7.8615, -7.8433, -7.9886, -8.2894, -8.0671, -8.4235, -7.8722, -7.8337, -8.1274, -8.0571, -7.1462, -7.1615, -8.0586, -8.0589, -7.3313, -7.6495, -7.975, -6.9431, -5.6069, -6.6186, -5.1861, -4.7332, -5.2739, -5.9547, -6.0105, -5.964, -6.9559, -5.9837, -6.0342, -6.0082, -6.3652, -5.7448, -5.5082, -5.8157, -6.0971, -5.9987, -6.2366, -6.138, -6.0591, -6.2677, -6.2984, -6.1311, -6.2723, -6.2547, -6.1637, -6.3429, -6.3421, -6.4524, -6.4415, -6.3205, -6.3653, -11.5316, -11.6754, -11.8095, -11.8798, -11.9917, -10.1381, -12.0751, -11.8931, -11.508, -12.0897, -11.0624, -10.5259, -11.1593, -10.5912, -11.1279, -12.2165, -10.4623, -10.8852, -11.6074, -11.5555, -11.4322, -10.8777, -11.5622, -11.8833, -11.6077, -12.3846, -11.1183, -10.9629, -10.62, -9.261, -9.3279, -8.8716, -9.1145, -8.9158, -9.824, -9.607, -9.6073, -9.365, -9.6044, -9.6073, -9.6074, -9.6074, -9.6074, -9.6344, -9.8015, -9.9835, -10.0072, -9.6037, -9.6081, -9.6085, -10.0871, -9.6905, -10.0524, -9.7076, -9.7225, -9.7038, -9.7539, -9.5688, -8.704, -9.134, -9.5711, -9.5802, -9.5435, -8.2267, -8.1979, -8.667, -7.1941, -8.2012, -8.5401, -8.473, -8.0069, -9.2421, -4.9725, -6.481, -8.1484, -7.92, -7.1059, -8.2429, -8.6378, -7.925, -8.6494, -7.9693, -6.8457, -8.5549, -8.9617, -7.2453, -7.1477, -8.2398, -8.4081, -6.4452, -6.9943, -5.9971, -6.3167, -7.5545, -7.5713, -5.8427, -6.9239, -7.1624, -6.5674, -7.131, -6.0756, -6.4098, -6.2996, -7.131, -6.0339, -5.8285, -6.4867, -7.0837, -7.0542, -6.1519, -6.2093, -4.9191, -5.4612, -6.9315, -5.5818, -6.4674, -6.3618, -5.5602, -6.3209, -6.7485, -6.2145, -5.8179, -5.9144, -4.6608, -5.95, -6.4937, -5.4461, -6.1084, -6.2291, -5.6016, -6.1082, -6.1444, -6.1836, -5.9585, -6.2567, -6.2422, -6.2592, -6.3159], \"loglift\": [30.0, 29.0, 28.0, 27.0, 26.0, 25.0, 24.0, 23.0, 22.0, 21.0, 20.0, 19.0, 18.0, 17.0, 16.0, 15.0, 14.0, 13.0, 12.0, 11.0, 10.0, 9.0, 8.0, 7.0, 6.0, 5.0, 4.0, 3.0, 2.0, 1.0, 1.5726, 1.5724, 1.5722, 1.571, 1.5705, 1.5689, 1.5679, 1.5678, 1.5677, 1.5677, 1.5677, 1.5676, 1.5676, 1.5676, 1.5675, 1.5675, 1.5674, 1.5672, 1.5672, 1.5672, 1.5672, 1.5671, 1.5671, 1.567, 1.5669, 1.5669, 1.5668, 1.5668, 1.5667, 1.5667, 1.5601, 1.5644, 1.5662, 1.5612, 1.5642, 1.5657, 1.5649, 1.5633, 1.5664, 1.5659, 1.5651, 1.5501, 1.5588, 1.5648, 1.5665, 1.5653, 1.5636, 1.5522, 1.5648, 1.5643, 1.5446, 1.5465, 1.5518, 1.5506, 1.5473, 1.5466, 1.5573, 1.5303, 1.5591, 1.5119, 1.5523, 1.5451, 1.5106, 1.4794, 1.5461, 1.4695, 1.5511, 1.2592, 1.3637, 1.4572, 1.4913, 1.4884, 1.1205, 1.1497, 0.9211, 1.298, 0.8535, 1.4618, 0.8469, 0.3083, 0.4464, 0.4905, 0.6987, 0.6584, 0.245, 0.6231, 0.412, 0.5437, 0.4402, 0.6818, 0.3678, -0.1069, 0.6769, 0.6605, 0.6548, 0.3126, 0.3087, 0.4656, 0.7097, 0.2148, 0.2885, 0.3111, -0.2175, 0.0927, 0.144, -0.3613, -0.1719, -0.6578, -0.3492, 2.1836, 2.1823, 2.1816, 2.1815, 2.1813, 2.1812, 2.1812, 2.1812, 2.1812, 2.1811, 2.181, 2.1808, 2.1808, 2.1807, 2.1807, 2.1807, 2.1807, 2.1806, 2.1806, 2.1806, 2.1806, 2.1805, 2.1804, 2.1803, 2.1803, 2.1803, 2.1803, 2.1803, 2.1803, 2.1803, 2.1711, 2.1769, 2.1724, 2.1717, 2.1713, 2.1707, 2.1736, 2.1706, 2.172, 2.1784, 2.176, 2.1736, 2.169, 2.1744, 2.1714, 2.1802, 2.1802, 2.1801, 2.1791, 2.1729, 2.1677, 2.1704, 2.171, 2.1705, 2.17, 2.1706, 2.1597, 2.1683, 2.1711, 2.1705, 2.1495, 2.1574, 2.1218, 2.1468, 2.1438, 2.1373, 2.125, 2.1169, 2.1626, 2.1365, 1.9611, 1.9685, 2.1312, 2.1275, 2.1058, 2.0944, 2.1219, 2.0419, 2.0394, 2.0387, 2.036, 1.9724, 2.0269, 0.2081, 1.369, 0.7108, 0.6057, 0.0924, -0.1273, 0.3656, 0.4103, 0.4668, -0.4313, -0.3043, 1.2946, 0.4129, 0.8271, 0.3082, 0.2678, 0.5818, 1.5594, -0.3457, 0.4252, 0.0246, -0.0036, -0.079, 0.0196, -0.2636, -0.2494, -0.4801, 0.4333, 0.0063, -0.6337, -0.2774, 1.9529, 1.9525, 1.9499, 1.949, 1.9486, 1.9484, 1.9479, 1.9477, 1.9476, 1.9474, 1.9473, 1.9473, 1.9472, 1.9472, 1.9471, 1.9471, 1.9471, 1.9468, 1.9467, 1.9467, 1.9467, 1.9466, 1.9466, 1.9466, 1.9466, 1.9466, 1.9466, 1.9465, 1.9465, 1.9465, 1.9449, 1.9448, 1.9443, 1.9443, 1.9441, 1.9457, 1.9437, 1.9436, 1.943, 1.9448, 1.9448, 1.9457, 1.9465, 1.9412, 1.942, 1.944, 1.9438, 1.9436, 1.9427, 1.9441, 1.946, 1.9428, 1.9457, 1.9397, 1.9365, 1.9367, 1.933, 1.8888, 1.8891, 1.9315, 1.9306, 1.8335, 1.8184, 1.8896, 1.3798, 0.6428, 1.1422, 0.1493, -0.218, 0.0917, 0.4071, 0.4391, 0.3069, 1.1697, 0.295, 0.3321, 0.2856, 0.6012, -0.0688, -0.4072, -0.0794, 0.231, 0.0739, 0.2043, 0.0388, -0.2533, 0.0723, 0.0809, -0.3469, -0.0546, -0.1498, -0.4604, -0.0725, -0.0956, 0.1607, 0.0615, -0.3343, -0.2222, 0.6146, 0.6141, 0.6136, 0.6134, 0.6129, 0.6126, 0.6125, 0.6122, 0.6116, 0.6116, 0.6114, 0.6114, 0.6113, 0.6112, 0.6111, 0.6111, 0.611, 0.611, 0.611, 0.611, 0.611, 0.6109, 0.6109, 0.6109, 0.6108, 0.6107, 0.6107, 0.6107, 0.6107, 0.6106, 0.6097, 0.6037, 0.6043, 0.5997, 0.6088, 0.6058, 0.6058, 0.6033, 0.6057, 0.6057, 0.6056, 0.6056, 0.6055, 0.6057, 0.6072, 0.609, 0.6093, 0.605, 0.6051, 0.6049, 0.6097, 0.6055, 0.609, 0.6053, 0.6054, 0.6049, 0.6052, 0.6032, 0.5893, 0.5957, 0.6028, 0.6026, 0.6008, 0.5714, 0.5682, 0.5809, 0.5346, 0.5647, 0.5745, 0.5716, 0.5565, 0.5946, 0.4393, 0.4967, 0.5582, 0.5482, 0.5115, 0.5564, 0.5725, 0.5421, 0.5721, 0.5438, 0.4962, 0.5672, 0.5835, 0.5114, 0.4977, 0.5502, 0.5586, 0.4527, 0.4824, 0.4136, 0.4334, 0.5114, 0.5123, 0.4011, 0.4695, 0.4829, 0.4326, 0.4692, 0.3847, 0.413, 0.3984, 0.4653, 0.3694, 0.3471, 0.3985, 0.4536, 0.45, 0.3455, 0.3428, 0.1818, 0.2421, 0.4292, 0.224, 0.3565, 0.334, 0.1761, 0.3139, 0.3925, 0.2698, 0.1683, 0.1905, -0.1456, 0.1931, 0.3257, -0.0805, 0.162, 0.1953, -0.2662, 0.0687, 0.0732, 0.0629, -0.2825, 0.0897, 0.0288, -0.1867, 0.1663]}, \"token.table\": {\"Topic\": [1, 2, 3, 4, 1, 2, 3, 4, 1, 2, 3, 4, 1, 2, 3, 4, 1, 2, 3, 4, 1, 2, 3, 4, 1, 2, 3, 4, 1, 3, 4, 1, 3, 4, 1, 2, 1, 2, 3, 4, 1, 2, 3, 4, 1, 2, 3, 4, 1, 2, 3, 4, 1, 2, 3, 4, 1, 2, 3, 4, 1, 2, 3, 4, 1, 2, 3, 4, 1, 2, 3, 4, 1, 2, 4, 1, 2, 3, 4, 1, 4, 1, 2, 3, 4, 1, 2, 3, 4, 1, 2, 3, 4, 1, 2, 3, 4, 1, 2, 3, 4, 1, 2, 4, 1, 2, 3, 4, 1, 4, 1, 2, 3, 4, 1, 2, 3, 4, 1, 3, 1, 2, 3, 4, 1, 2, 3, 4, 1, 2, 3, 4, 1, 2, 3, 4, 1, 2, 3, 4, 1, 2, 3, 4, 1, 2, 3, 4, 1, 2, 3, 4, 1, 2, 3, 4, 4, 1, 2, 3, 4, 3, 4, 1, 2, 3, 4, 1, 2, 3, 4, 1, 2, 3, 4, 1, 2, 3, 4, 1, 2, 3, 4, 1, 2, 3, 4, 1, 2, 3, 4, 1, 2, 3, 4, 1, 1, 2, 3, 4, 1, 2, 3, 4, 1, 2, 3, 4, 1, 2, 3, 4, 1, 2, 3, 4, 1, 2, 3, 4, 1, 2, 3, 4, 1, 2, 3, 4, 1, 2, 3, 4, 1, 2, 3, 4, 1, 2, 3, 4, 1, 2, 3, 4, 1, 2, 3, 4, 1, 2, 3, 4, 1, 2, 3, 4, 1, 2, 3, 4, 1, 2, 3, 4, 1, 2, 3, 4, 1, 2, 3, 4, 1, 2, 3, 4, 1, 2, 3, 4, 1, 2, 3, 4, 1, 2, 3, 4, 1, 2, 3, 4, 1, 2, 3, 4, 1, 2, 3, 4, 1, 2, 3, 4, 1, 2, 3, 4, 1, 2, 3, 4, 1, 2, 3, 4, 1, 2, 3, 4, 1, 2, 3, 4, 1, 2, 3, 4, 1, 2, 3, 4, 1, 2, 3, 4, 1, 2, 3, 4, 1, 2, 3, 4, 3, 1, 2, 3, 4, 1, 2, 3, 4, 1, 2, 3, 4, 1, 2, 3, 4, 1, 2, 3, 4, 1, 2, 3, 4, 1, 2, 3, 4, 1, 2, 1, 2, 3, 4, 1, 2, 3, 4, 1, 2, 3, 4, 1, 2, 3, 4, 1, 2, 3, 4, 1, 2, 3, 4, 4, 1, 2, 3, 4, 1, 2, 3, 4, 1, 2, 3, 4, 1, 2, 3, 4, 1, 2, 3, 4, 1, 2, 3, 4, 1, 2, 3, 4, 1, 1, 4, 1, 2, 3, 4, 1, 2, 3, 4, 2, 1, 2, 3, 4, 1, 2, 3, 4, 1, 2, 3, 4, 1, 2, 3, 4, 1, 2, 3, 4, 1, 2, 3, 4, 1, 2, 3, 4, 1, 2, 3, 4, 1, 2, 3, 4, 1, 2, 3, 4, 1, 2, 3, 4, 1, 2, 3, 4, 1, 2, 3, 4, 1, 2, 3, 4, 1, 2, 3, 4, 1, 2, 3, 4, 1, 2, 3, 4, 1, 2, 3, 4, 1, 2, 3, 4, 1, 2, 3, 4, 1, 2, 3, 4, 1, 2, 3, 4, 1, 2, 3, 4, 1, 2, 3, 4, 1, 2, 3, 4, 1, 4, 1, 2, 3, 4, 1, 2, 3, 4, 1, 2, 3, 4, 1, 2, 3, 4, 1, 2, 3, 4, 1, 2, 3, 4, 1, 2, 3, 4, 1, 2, 3, 4, 1, 2, 3, 4, 1, 2, 3, 4, 1, 2, 3, 4, 1, 2, 3, 4, 1, 2, 3, 4, 1, 2, 3, 4, 1, 2, 3, 4, 1, 2, 3, 4, 1, 2, 3, 4, 1, 3, 1, 2, 3, 4, 1, 2, 3, 4, 1, 2, 3, 4, 1, 2, 3, 4, 1, 2, 3, 4, 1, 2, 3, 4, 1, 2, 3, 4, 1, 2, 3, 4, 1, 2, 3, 4, 1, 2, 3, 4, 1, 2, 3, 4, 1, 4, 1, 2, 3, 4, 1, 2, 3, 4, 1, 1, 2, 3, 4, 1, 2, 3, 4, 1, 2, 3, 4, 1, 2, 3, 4, 1, 2, 3, 4, 1, 2, 3, 4, 1, 2, 3, 4, 1, 2, 3, 4, 1, 2, 3, 4, 1, 2, 3, 4, 1, 2, 3, 4, 1, 2, 3, 4, 1, 2, 3, 4, 1, 2, 3, 4, 1, 2, 3, 4, 1, 2, 3, 4, 1, 2, 3, 4, 1, 2, 3, 4, 1, 2, 3, 4, 1, 2, 3, 4, 4, 1, 2, 3, 4, 3, 1, 2, 3, 4, 1, 2, 3, 4, 1, 2, 3, 4, 1, 2, 3, 4, 1, 2, 3, 4, 1, 2, 3, 4, 1, 2, 3, 4, 1, 2, 3, 4, 1, 2, 3, 4, 1, 2, 3, 4, 1, 2, 3, 4, 1, 2, 3, 4, 1, 2, 3, 4, 1, 2, 3, 4, 1, 2, 3, 4, 4, 4, 4, 4, 1, 2, 3, 4, 1, 2, 3, 4, 1, 3, 4, 1, 2, 3, 4, 1, 2, 3, 4, 1, 2, 3, 4, 1, 2, 3, 4, 1, 2, 3, 4, 1, 2, 3, 4, 1, 2, 3, 4, 1, 2, 3, 4, 1, 2, 3, 4, 1, 2, 3, 4, 1, 2, 3, 4, 4, 1, 2, 3, 4, 1, 2, 3, 4, 1, 2, 3, 4, 1, 2, 3, 4, 1, 2, 1, 2, 3, 4, 1, 2, 3, 4, 1, 2, 3, 4, 1, 2, 3, 4, 1, 2, 3, 4, 1, 3, 4, 1, 4, 1, 2, 3, 4, 1, 2, 3, 4, 1, 2, 3, 4, 1, 2, 3, 4, 2, 3, 1, 2, 3, 4, 1, 2, 3, 4, 1, 2, 3, 4, 1, 2, 3, 4, 1, 2, 3, 4, 1, 2, 3, 4, 1, 2, 3, 4, 1, 2, 3, 4, 1, 2, 3, 4, 1, 2, 3, 4, 1, 2, 3, 4, 1, 2, 3, 4, 1, 2, 3, 4, 1, 2, 3, 4, 1, 2, 3, 4, 1, 2, 3, 4, 1, 2, 3, 4, 1, 2, 3, 4, 1, 2, 3, 4, 1, 2, 3, 4, 1, 2, 3, 4, 1, 4, 1, 2, 3, 4, 1, 2, 3, 4, 1, 2, 3, 4, 1, 2, 3, 4, 1, 2, 3, 4, 1, 2, 3, 4, 1, 2, 3, 4, 1, 2, 3, 4, 1, 2, 3, 4, 1, 2, 3, 4, 1, 2, 3, 4, 1, 2, 3, 4, 1, 2, 3, 4, 1, 2, 3, 4, 1, 2, 3, 4, 1, 2, 3, 4, 4, 1, 2, 3, 4, 1, 2, 3, 4, 1, 2, 3, 4, 1, 2, 3, 4, 1, 2, 3, 4, 1, 2, 3, 4, 1, 2, 3, 4, 1, 2, 3, 4, 1, 2, 3, 4, 1, 2, 3, 4, 1, 2, 3, 4, 1, 2, 3, 4, 1, 2, 3, 4, 1, 2, 3, 1, 2, 3, 4, 1, 1, 2, 3, 4, 1, 2, 3, 4, 1, 2, 3, 4, 1, 2, 3, 4, 1, 2, 3, 4, 1, 2, 3, 4, 1, 2, 3, 4, 1, 2, 3, 4, 1, 2, 3, 4, 1, 2, 3, 4, 1, 2, 3, 4, 1, 2, 3, 4, 1, 2, 3, 4, 1, 2, 3, 4, 1, 2, 3, 4, 1, 2, 3, 4, 1, 2, 3, 4, 1, 2, 3, 4, 1, 2, 3, 4, 1, 2, 3, 4, 1, 2, 3, 4, 1, 2, 3, 4, 1, 2, 3, 4, 3, 4, 1, 2, 3, 4, 1, 2, 3, 4, 1, 2, 3, 4, 1, 2, 3, 4, 1, 1, 2, 3, 4, 1, 2, 3, 4, 1, 2, 3, 4, 1, 2, 3, 4, 1, 2, 3, 4, 1, 2, 3, 4, 1, 2, 3, 4, 1, 2, 3, 4, 1, 2, 3, 4, 1, 2, 3, 4, 1, 2, 3, 4, 1, 2, 3, 4, 4, 1, 2, 3, 4, 1, 2, 3, 4, 4, 1, 2, 3, 4, 1, 2, 3, 4, 1, 2, 3, 4, 1, 2, 3, 4, 1, 2, 3, 4, 1, 2, 3, 4, 1, 2, 3, 4, 1, 2, 3, 4, 1, 2, 3, 4, 1, 2, 3, 4, 1, 2, 3, 4, 1, 2, 3, 4, 1, 2, 3, 4, 1, 2, 3, 4, 1, 2, 3, 4, 1, 2, 3, 4, 1, 2, 3, 4, 1, 2, 3, 4, 1, 2, 3, 4, 1, 2, 3, 4, 1, 2, 3, 4, 1, 2, 3, 4, 1, 2, 3, 4, 1, 2, 3, 4, 1, 2, 3, 4, 1, 2, 3, 4, 1, 2, 3, 4, 1, 4, 1, 2, 3, 4, 1, 2, 3, 4, 1, 2, 3, 4, 1, 2, 3, 4, 1, 2, 3, 4, 1, 2, 3, 4, 1, 2, 3, 4, 1, 2, 3, 4, 1, 2, 3, 4, 1, 2, 3, 4, 1, 2, 3, 4, 1, 2, 3, 4, 1, 2, 3, 4, 1, 2, 3, 4, 1, 2, 3, 4, 1, 2, 3, 4], \"Freq\": [0.014298525332818633, 0.0021096184917273396, 0.01125129862254581, 0.9722997226316671, 0.0034504725203916967, 0.9914357708592142, 0.0034504725203916967, 0.0023003150135944644, 0.010785821344400261, 0.0023728806957680573, 0.030847449044984744, 0.9560552039676391, 0.00805723314068139, 0.8578583520372539, 0.12938968514153057, 0.0047395489062831715, 0.020701680916716078, 0.0018819709924287344, 0.9753314668261915, 0.002352463740535918, 0.0036883034720341388, 0.9921536339771834, 0.0036883034720341388, 0.0036883034720341388, 0.2821815635624605, 0.13790149304392282, 0.1136707855986238, 0.4662473949102962, 0.005736804468805189, 0.9924671731032977, 0.005736804468805189, 0.0037961804187162706, 0.9908030892849466, 0.0037961804187162706, 0.993206661391188, 0.004868660104858764, 0.0059318602216265155, 0.00431408016118292, 0.9849584268000755, 0.004853340181330785, 0.17613618911680448, 0.05646600863191514, 0.11319310853618131, 0.6541943087915248, 0.004704599780438238, 0.002352299890219119, 0.004116524807883458, 0.9885540288645848, 0.008561522528038833, 0.9813645197764512, 0.00374566610601699, 0.005886046738026698, 0.6357045496944996, 0.06786665871065344, 0.08865878177303757, 0.20777510124488885, 0.9922400028177798, 0.0014710748744518603, 0.0022066123116777905, 0.0036776871861296506, 0.9939934251797441, 0.0029627225787771804, 0.0014813612893885902, 0.0014813612893885902, 0.0040457527868221575, 0.9827133519191021, 0.01051895724573761, 0.0028320269507755105, 0.003298180072462033, 0.9927522018110718, 0.003298180072462033, 0.003298180072462033, 0.00479751528210424, 0.9930856633955777, 0.00479751528210424, 0.4169502858026649, 0.09821331885748945, 0.16050718861876154, 0.3243300186925585, 0.9993689959198256, 0.0008266079370718161, 0.02643088798414377, 0.0017919246090944928, 0.007615679588651595, 0.9640554396928371, 0.0228481734568479, 0.002741780814821748, 0.019192465703752236, 0.955236435883897, 0.3865942499334982, 0.03926848724448883, 0.09214470741574135, 0.4820086599606174, 0.028129913311946433, 0.0029372600245405915, 0.028016941772541024, 0.9408269801682325, 0.11199442045894115, 0.017431800316274504, 0.024757073707607834, 0.8458144548966272, 0.003930413234419537, 0.9904641350737234, 0.003930413234419537, 0.002360721110117202, 0.9915028662492248, 0.002360721110117202, 0.002360721110117202, 0.9986586908020332, 0.000879875498503994, 0.002861641440089476, 0.002861641440089476, 0.002861641440089476, 0.9920356992310183, 0.012886302491886605, 0.9197956356431062, 0.05641336868670358, 0.010881766548704245, 0.9929333308617663, 0.00327700769261309, 0.992989107335821, 0.0030553510994948342, 0.0022915133246211253, 0.0015276755497474171, 0.009054810518197627, 0.004724248966016153, 0.9834311597590292, 0.002755811896842756, 0.03261115194130921, 0.005149129253890928, 0.021454705224545532, 0.9407173084122398, 0.017570709974499884, 0.003043745034952736, 0.027532057361617932, 0.9520004357049898, 0.25697812376177565, 0.1147926085827461, 0.18985285264401477, 0.4383785052268364, 0.004973475240175523, 0.001492042572052657, 0.9907162678429643, 0.002984085144105314, 0.004020845269993532, 0.002010422634996766, 0.9901331477359073, 0.004020845269993532, 0.9932187791881355, 0.0018207493660644097, 0.0018207493660644097, 0.0036414987321288193, 0.004116656190847543, 0.002352374966198596, 0.005880937415496491, 0.9879974858034104, 0.9971518337084101, 0.005291942361209672, 0.0017639807870698907, 0.004115955169829745, 0.9884172343548288, 0.9931827741387832, 0.005067259051728485, 0.00557559414197315, 0.00557559414197315, 0.9924557572712206, 0.00557559414197315, 0.009149322710164389, 0.863086108992174, 0.12410235163274261, 0.003753568291349493, 0.003597542938325315, 0.9911230795086243, 0.0017987714691626575, 0.003597542938325315, 0.0031488724636117176, 0.9918948260376911, 0.0031488724636117176, 0.0031488724636117176, 0.0027960594153118327, 0.0027960594153118327, 0.9912030627280447, 0.0041940891229677495, 0.002186736698278605, 0.9916850926693473, 0.002186736698278605, 0.0032801050474179074, 0.31303028670190686, 0.08727937257181245, 0.1522007759098634, 0.4474962984016496, 0.006258851228425632, 0.002738247412436214, 0.9873337812841434, 0.003520603815989418, 0.9934649637623147, 0.008475869791692505, 0.9814165021959742, 0.004460984100890792, 0.00579927933115803, 0.0041042914821719555, 0.002345309418383975, 0.005276946191363943, 0.9885479198488454, 0.9012149385695956, 0.021850072138456654, 0.07211864300913914, 0.004825782803585518, 0.0035668808569689395, 0.0023779205713126265, 0.9904039179517089, 0.0035668808569689395, 0.0048121061177681945, 0.0020623311933292265, 0.9892315290669189, 0.004124662386658453, 0.08885978738923699, 0.019943770172823956, 0.0599732590606272, 0.8312033466808978, 0.007429200108902096, 0.9708478702313259, 0.016344240239584612, 0.005051856074053425, 0.005854507832141756, 0.0018734425062853618, 0.9894118236319567, 0.0028101637594280427, 0.006649272046256656, 0.0023468018986788197, 0.9883947329935628, 0.0023468018986788197, 0.00735605866499803, 0.9832598415547367, 0.004904039109998687, 0.004597536665623769, 0.0035304000441878473, 0.9920424124167851, 0.0035304000441878473, 0.0035304000441878473, 0.005476713060835575, 0.003520744110537155, 0.9885467074808212, 0.0027383565304177873, 0.06202036255612649, 0.0063736340966770305, 0.01108031773730007, 0.9204998474239326, 0.009282966740628427, 0.0016144289983701613, 0.01170461023818367, 0.9775367585131326, 0.003420223788747925, 0.9910098427897113, 0.003420223788747925, 0.0017101118943739625, 0.007167265480232974, 0.9814034232576151, 0.007167265480232974, 0.004095580274418842, 0.07515351765196807, 0.017419403976704016, 0.04518696873164804, 0.8622173795102728, 0.9936688792811686, 0.0028594787892983267, 0.002144609091973745, 0.0014297393946491634, 0.007678884097795747, 0.002879581536673405, 0.9862566763106412, 0.002879581536673405, 0.12758896281796694, 0.0452910583652404, 0.0672865489932193, 0.7598346016729233, 0.3239676562238089, 0.09861384335716367, 0.16413101446599399, 0.41328523499058695, 0.007519895311526465, 0.9787143747951694, 0.009775863904984404, 0.004135942421339556, 0.004077103818149226, 0.004077103818149226, 0.9907362278102618, 0.004077103818149226, 0.9926620697827986, 0.0025323011984255068, 0.0025323011984255068, 0.0025323011984255068, 0.004911111203206516, 0.0013393939645108678, 0.0017858586193478239, 0.9924909277025531, 0.004179469703088158, 0.0012538409109264473, 0.0012538409109264473, 0.9930420014537463, 0.27548194451815355, 0.042729597535107994, 0.455369175096842, 0.22648145041645976, 0.1646884701720677, 0.07933091102965019, 0.10035100820000861, 0.6556274738306541, 0.0052693251516308815, 0.002341922289613725, 0.00468384457922745, 0.9877057256445886, 0.004705478356273576, 0.002352739178136788, 0.005293663150807773, 0.9875622700229167, 0.004617126317483348, 0.0026383578957047704, 0.004617126317483348, 0.9880650319414365, 0.40047859286744103, 0.17861178134787653, 0.16601447686994064, 0.2549025997933351, 0.0033730123895163795, 0.0033730123895163795, 0.9916656425178156, 0.0033730123895163795, 0.010048211938272687, 0.0025120529845681716, 0.8711241516485848, 0.11639178828499194, 0.008677353069857799, 0.9815050472350266, 0.0048207517054765555, 0.0048207517054765555, 0.3385819968790279, 0.1228403132245817, 0.1319680396863857, 0.40660559146265146, 0.08256834600309342, 0.0516597724632521, 0.0954237732520133, 0.7703535424426047, 0.9952513417324764, 0.005281403745688771, 0.0008802339576147952, 0.0017604679152295904, 0.9920236702318741, 0.005291043882699137, 0.0023515750589773944, 0.00411525635321044, 0.98824941853525, 0.9389168265512674, 0.029887166369163755, 0.020001411339363433, 0.011035261428614308, 0.008265692121840263, 0.8601043059354926, 0.12705549604428748, 0.004487090008999, 0.007108351478811111, 0.002221359837128472, 0.9876165835873187, 0.003109903771979861, 0.004079868339482788, 0.0013599561131609293, 0.9900480503811565, 0.0027199122263218585, 0.030813495582802428, 0.8018714680117037, 0.020142006578067955, 0.14717047055082363, 0.9925173882594827, 0.004334137066635295, 0.0029566479145338056, 0.9919553753260919, 0.0029566479145338056, 0.0014783239572669028, 0.005978002166908114, 0.003092070086331783, 0.9871949095628606, 0.0037104841035981396, 0.2940094360697766, 0.44031590496897033, 0.22604652019550903, 0.03966055090744928, 0.005904697704306727, 0.001968232568102242, 0.005623521623149263, 0.9863656927003809, 0.0027888866403161256, 0.9900547573122246, 0.0027888866403161256, 0.0027888866403161256, 0.01397275047693816, 0.0018882095239105621, 0.9803583848143639, 0.0037764190478211243, 0.9911577947733614, 0.9943599179442529, 0.002242074223098654, 0.002242074223098654, 0.001121037111549327, 0.16035429372403182, 0.1713539229666957, 0.14550168700653657, 0.5228034704827691, 0.009382563018504474, 0.9556416392082645, 0.03007939320638199, 0.004967239245090604, 0.0953010114848092, 0.02837825919031956, 0.061215392904257766, 0.8151218973576985, 0.09645499103293234, 0.5326789884835337, 0.08179199952198775, 0.2891358638564385, 0.004078748935260337, 0.9911359912682618, 0.0020393744676301686, 0.0030590617014452526, 0.020971710418905356, 0.008643745510494774, 0.03528348577234752, 0.9349415225941725, 0.9955140061854135, 0.003665990544489999, 0.9934834375567898, 0.007478396837084315, 0.9800099127870037, 0.008158251095001071, 0.004758979805417291, 0.004363363876634601, 0.0012466753933241717, 0.9904835999960545, 0.0037400261799725152, 0.9919226111058943, 0.12854689721356116, 0.055373037481365385, 0.07785396521327202, 0.738225059304502, 0.03789998821876935, 0.004211109802085484, 0.02475310883664882, 0.9331203061450395, 0.009194017318531238, 0.9493479596906256, 0.03703875548322585, 0.004465665554715173, 0.8106892542256465, 0.020074474721207426, 0.05035984142863454, 0.11884922577157753, 0.9768632316417377, 0.004025977710359948, 0.016103910841439792, 0.0030597430598735603, 0.0038580724767319605, 0.9915246265201137, 0.0022046128438468343, 0.002755766054808543, 0.009626265062418727, 0.9302658705001247, 0.021095857477215506, 0.038914688550203365, 0.022658322461613627, 0.0065945863880815785, 0.02790017318034514, 0.9428567615369969, 0.004604074560685098, 0.0057550932008563725, 0.9864229746267823, 0.0034530559205138236, 0.007535033811121222, 0.9822138191438017, 0.005762084679092699, 0.004432372830071307, 0.04988696777586657, 0.017416611362544708, 0.05899543630026085, 0.8736888741495348, 0.0021835945820430896, 0.9913519402475627, 0.0021835945820430896, 0.0021835945820430896, 0.10320791523200226, 0.028842242102389958, 0.06248226956798071, 0.8054726417858814, 0.9940092649411718, 0.001383450612305041, 0.002766901224610082, 0.001383450612305041, 0.004548523623746494, 0.0025991563564265684, 0.005198312712853137, 0.9876794154420959, 0.14470489450655347, 0.045700440274077346, 0.06260604825791927, 0.7469869284729592, 0.9936813190186138, 0.0017587279982630333, 0.0017587279982630333, 0.0017587279982630333, 0.4835340291606058, 0.06236518985169457, 0.15153110671481998, 0.3025730746857051, 0.9100870202192963, 0.08102223989529966, 0.005248949096207121, 0.0036338878358356994, 0.9577702013666801, 0.034361419576733755, 0.006089365494611046, 0.0019572960518392645, 0.9928292145198239, 0.0017206745485612198, 0.0034413490971224397, 0.0017206745485612198, 0.9908256572868258, 0.0034320251378137366, 0.003088822624032363, 0.0024024175964696155, 0.8902172755395646, 0.015480335630117897, 0.0681918582187472, 0.02606183087095798, 0.010575847230137934, 0.9734377646174784, 0.012874944454080961, 0.002758916668731635, 0.10428124375615046, 0.034672922980587655, 0.04542126662975544, 0.8156273619684111, 0.004368238421396833, 0.9915901216570812, 0.6545311826031254, 0.06809559363021939, 0.12032556042175237, 0.1570131389519576, 0.9932727235148863, 0.0017017807941431518, 0.00283630132357192, 0.002269041058857536, 0.9778939785435753, 0.003149417000140339, 0.008923348167064294, 0.00997315383377774, 0.9773654178523321, 0.007293771775017404, 0.01137828396902715, 0.00379276132300905, 0.00836005517526089, 0.9378267023529846, 0.04973161027334684, 0.004287207782185072, 0.005823310272143203, 0.0025881378987303127, 0.003882206848095469, 0.9873746083656142, 0.2274376522123415, 0.06973923113082374, 0.1284752108472026, 0.574340767909248, 0.0027046745752161193, 0.0027046745752161193, 0.0027046745752161193, 0.9926155691043157, 0.0062579433896274754, 0.0027378502329620208, 0.987581691175586, 0.0031289716948137377, 0.006647735049697049, 0.0027373026675223144, 0.9873841764991205, 0.0031283459057397877, 0.08604613312899687, 0.023882715203132693, 0.0419549666001365, 0.8481140957019447, 0.007685582119714331, 0.0021958806056326663, 0.006587641816897998, 0.9832055411720263, 0.003667812985095164, 0.9903095059756943, 0.003667812985095164, 0.003667812985095164, 0.002186188701814384, 0.9925296706237303, 0.002186188701814384, 0.003279283052721576, 0.07772091000929954, 0.05019695137642684, 0.06875716869208046, 0.8033410424271941, 0.4099471915116227, 0.07921270239922856, 0.10329457559516994, 0.4075491014134943, 0.002677800559062971, 0.002677800559062971, 0.002677800559062971, 0.9934640074123623, 0.005109751084548922, 0.9912917104024908, 0.23942539209957897, 0.06668502137223489, 0.15195479384197566, 0.5419411234512174, 0.004045061785567775, 0.004045061785567775, 0.9910401374641048, 0.004045061785567775, 0.004290831329904137, 0.0014302771099680457, 0.00500596988488816, 0.9897517600978877, 0.48674498132044275, 0.09370937489486442, 0.17810218911352763, 0.24144513472266743, 0.9853418320145728, 0.005129933446611713, 0.005129933446611713, 0.004340712916363757, 0.2766342365712727, 0.09238725909646434, 0.17341210272572077, 0.4575671762014787, 0.4215429269983648, 0.19497636593534567, 0.15521836370241826, 0.22827819711081132, 0.008465620304762854, 0.001693124060952571, 0.003950622808889332, 0.9859625781613804, 0.4079722912574381, 0.14861791106390962, 0.09146530990414928, 0.35195639770631315, 0.0075018182503945804, 0.9821380453416585, 0.005701381870299881, 0.004501090950236749, 0.004763548465944674, 0.0027220276948255275, 0.004763548465944674, 0.9880960532216666, 0.9984553466012, 0.001116840432439821, 0.006905787078339863, 0.002762314831335945, 0.004603858052226575, 0.9861463947869324, 0.005021779586548222, 0.003586985418963016, 0.0046630810446519205, 0.9867796887567257, 0.9913589777299912, 0.971497877082141, 0.005543328908930512, 0.004128010889629104, 0.018752963755743646, 0.9911079879007505, 0.0024819064805527975, 0.0033092086407370633, 0.0024819064805527975, 0.02019631044792354, 0.005394904845678206, 0.025729546187080673, 0.9486732674784907, 0.0034374472948496045, 0.0025780854711372034, 0.0025780854711372034, 0.9917035445641108, 0.1361961566089131, 0.042650751018764296, 0.059267369117014405, 0.761888398987208, 0.003482227081690045, 0.9924347182816629, 0.003482227081690045, 0.003482227081690045, 0.003253787391291484, 0.001626893695645742, 0.001626893695645742, 0.9940320480395485, 0.005099451570485382, 0.948497992110281, 0.00959896766209013, 0.03689603195115894, 0.2829823327992409, 0.08878050205951331, 0.14947317209522634, 0.47875849461625847, 0.25468625806238687, 0.2560953559904212, 0.1786277396677909, 0.3105913991141666, 0.1801089196043542, 0.1614265299066564, 0.15326172787403422, 0.5051875874483662, 0.9946006724095751, 0.0016358563690946958, 0.0032717127381893915, 0.0016358563690946958, 0.004474905562910159, 0.0014916351876367196, 0.9904457645907818, 0.003480482104485679, 0.0033831697686122334, 0.9932986440645517, 0.00202990186116734, 0.0013532679074448933, 0.003612545160275139, 0.9898373739153882, 0.003612545160275139, 0.003612545160275139, 0.0030199705060614877, 0.0010066568353538292, 0.0010066568353538292, 0.995583610164937, 0.0032150936724483744, 0.9915348885830786, 0.0032150936724483744, 0.0019290562034690246, 0.004619040390101733, 0.004619040390101733, 0.9884746434817708, 0.004619040390101733, 0.12293841047386038, 0.05614606281862704, 0.06773480565716243, 0.7531984728009538, 0.08615368397990378, 0.014343911783041572, 0.025304825504045038, 0.8741666992306468, 0.9960472424968109, 0.0035468690279303384, 0.9913498933065296, 0.0035468690279303384, 0.0017734345139651692, 0.9976117477968407, 0.9910691325458105, 0.005052792372775436, 0.002165482445475187, 0.0014436549636501245, 0.0027620057543236982, 0.0027620057543236982, 0.0027620057543236982, 0.9915600658022077, 0.9719609959338769, 0.003404416798367345, 0.009362146195510198, 0.01531987559265305, 0.14445850090396986, 0.07925778304041192, 0.0892005852386745, 0.6870819174247659, 0.7303040283296784, 0.05048818067881659, 0.0999242320020035, 0.11928341214558974, 0.978863787490708, 0.0031583528520096596, 0.012633411408038638, 0.005414319174873701, 0.9733637433084975, 0.0038990250089610775, 0.018102616113033574, 0.0044560285816698025, 0.9858290668643177, 0.0028758140807010435, 0.007477116609822713, 0.00460130252912167, 0.9866076602921678, 0.0024360682970176986, 0.0074822097694115025, 0.003393095127988937, 0.9402528259991566, 0.018651056967044236, 0.01505773406513663, 0.026008813385235998, 0.9786843112517389, 0.003812746281964408, 0.01477439184261208, 0.002859559711473306, 0.9734158296478621, 0.003800991525214783, 0.016470963275930728, 0.0063349858753579714, 0.007359138095090233, 0.00398619980150721, 0.9858178739881291, 0.0027596767856588374, 0.00445152726760477, 0.0014838424225349235, 0.9904648170420615, 0.002967684845069847, 0.02290691238636307, 0.004581382477272614, 0.017016563487012568, 0.9557636491872058, 0.9947045090324702, 0.9962512675611402, 0.9943848672464545, 0.9916783730414248, 0.006780628641007811, 0.9609119445542498, 0.027316246810917183, 0.0048433061721484365, 0.993147699312777, 0.002046320809023579, 0.002046320809023579, 0.002728427745364772, 0.0039575056182812145, 0.0039575056182812145, 0.9933339101885849, 0.9915943305114313, 0.002446367591722281, 0.003261823455629708, 0.002446367591722281, 0.018820485906311125, 0.0014115364429733344, 0.9767832185375475, 0.0028230728859466687, 0.9944707564770563, 0.0017155907242272393, 0.0022874542989696524, 0.0017155907242272393, 0.004869440498975863, 0.0017707056359912232, 0.9902671269280916, 0.0030987348629846405, 0.16951170057865164, 0.11246273157725428, 0.08109778074253496, 0.6369269993551117, 0.003833127858173987, 0.0025554185721159916, 0.005749691787260981, 0.9883081327658597, 0.024701481724419865, 0.0029406525862404605, 0.014507219425452939, 0.9578685690913926, 0.009348604671011763, 0.9348604671011763, 0.05041568947581344, 0.005342059812006722, 0.0027800756718969776, 0.0013900378359484888, 0.0013900378359484888, 0.9938770527031695, 0.0027916119948972963, 0.0027916119948972963, 0.0027916119948972963, 0.9938138701834375, 0.004560237788392137, 0.008613782489185148, 0.9804511245043095, 0.006587010138788642, 0.9975139332400063, 0.004243245941406151, 0.0021216229707030753, 0.0021216229707030753, 0.9929195502890392, 0.17456520191546968, 0.08604214501100331, 0.10119373494858895, 0.6381952695353706, 0.0033098908196801608, 0.9929672459040482, 0.0033098908196801608, 0.0033098908196801608, 0.1667963238221304, 0.059425410916386534, 0.13057142774371205, 0.6432025152528467, 0.9926173378035444, 0.004471249269385335, 0.18684703630485303, 0.06593795735475727, 0.19214215783697614, 0.5550748088846302, 0.0029635624317344796, 0.0014817812158672398, 0.0014817812158672398, 0.9942751958469179, 0.016182194405205772, 0.003126105737369297, 0.9348895040462062, 0.04578825462382088, 0.0033354361895980944, 0.990624548310634, 0.0022236241263987296, 0.0033354361895980944, 0.0071632144196233745, 0.9818379231163772, 0.0057305715356987, 0.005253023907723808, 0.0048832366234963336, 0.9912970345697558, 0.0048832366234963336, 0.004147085177369632, 0.9953004425687116, 0.006943315641271278, 0.9685925319573433, 0.019962032468654925, 0.0043395722757945485, 0.401290125746098, 0.20040324516327496, 0.12164703526423104, 0.27663945998151557, 0.0022922149466161825, 0.0022922149466161825, 0.0022922149466161825, 0.9925290718848071, 0.005829824129795725, 0.9820238232431765, 0.007035994639408634, 0.005126224665854862, 0.005359031320295662, 0.9914207942546974, 0.2704785806905401, 0.17274666013653625, 0.2578731761434296, 0.2989150922187767, 0.12281184068819165, 0.03372863642110196, 0.06309300354862757, 0.7803704327000496, 0.004229032692429356, 0.0018124425824697238, 0.0054373277474091715, 0.9883853549734893, 0.0021863192736521027, 0.9914957906012285, 0.0021863192736521027, 0.003279478910478154, 0.002623744995441947, 0.9917756082770559, 0.002623744995441947, 0.002623744995441947, 0.007622654268234679, 0.002931790103167184, 0.9866450960525297, 0.002736337429622705, 0.2822913626705264, 0.20524827750235627, 0.21238397930787534, 0.3000743813557342, 0.0071486847080671516, 0.8049852234902284, 0.1828330270790508, 0.004765789805378101, 0.014601701070356706, 0.0027378189506918824, 0.04015467794348094, 0.9424615806929342, 0.004704047014316072, 0.002352023507158036, 0.004116041137526563, 0.9884378788831647, 0.25742217704133435, 0.16925549579968222, 0.14875123095743298, 0.4245725462161454, 0.008307191309021926, 0.9348219080658852, 0.05205138858184625, 0.004837098736898843, 0.0023525207467096627, 0.9927637551114776, 0.0023525207467096627, 0.0023525207467096627, 0.15161769992614837, 0.07381037412924973, 0.5617937621750958, 0.2127266498670916, 0.00292820009470658, 0.9850465118592935, 0.007613320246237108, 0.004099480132589212, 0.35706151984568885, 0.152436252688072, 0.15033487483022492, 0.34017853198778036, 0.005604900371316323, 0.9836600151660145, 0.005604900371316323, 0.00504441033418469, 0.28339188804895216, 0.11421038305512145, 0.19703738980360366, 0.4053602417270748, 0.9936707035257885, 0.0031797462512825232, 0.0015898731256412616, 0.0015898731256412616, 0.007075694441145619, 0.9811629625055258, 0.005660555552916495, 0.006603981478402578, 0.0291493108600758, 0.005793651847965376, 0.9345884637249148, 0.030416672201818224, 0.0041749492413935985, 0.9936379194516765, 0.06734376538979557, 0.031009055236882906, 0.04281998347807792, 0.8588477528697334, 0.004664937242630251, 0.9877227121729119, 0.005286928874980951, 0.0024879665294028006, 0.005742100331367899, 0.0022968401325471595, 0.9891724837503101, 0.0030624535100628797, 0.00413256809425006, 0.9897500585728893, 0.00206628404712503, 0.00413256809425006, 0.98992520000079, 0.0021186200107026, 0.004766895024080851, 0.0031779300160539006, 0.006975348672085296, 0.9843447920195663, 0.0041031462776972335, 0.004513460905466956, 0.9941022163602424, 0.0014771206780984285, 0.002215681017147643, 0.0014771206780984285, 0.007500182561836375, 0.9400228810834924, 0.04812617143845008, 0.004375106494404552, 0.5207640895399126, 0.04630341508558113, 0.0812687985269385, 0.3516559648795293, 0.9730934716578882, 0.007141096905512879, 0.009521462540683838, 0.00999753566771803, 0.9787901475566615, 0.011864123000686806, 0.006426399958705353, 0.002471692291809751, 0.9943315055291587, 0.0018211199734966277, 0.0036422399469932553, 0.0018211199734966277, 0.02068956324134694, 0.001410652039182746, 0.9742903417288832, 0.0032915214247597408, 0.3302405687890376, 0.07798199584551375, 0.1323057206031111, 0.4594761320753962, 0.9948162858349467, 0.0028835254661882513, 0.0014417627330941256, 0.0014417627330941256, 0.8944852904545761, 0.0807632723735411, 0.015062991276017585, 0.009935164458649896, 0.9956193578105634, 0.006382701022546358, 0.9826320193282084, 0.0054708865907540215, 0.0054708865907540215, 0.008264954699156089, 0.9813868431664601, 0.005203860366135315, 0.004897750932833238, 0.0069074935207408565, 0.0019055154539974776, 0.9884861417611915, 0.0028582731809962164, 0.05327669062857977, 0.010736538839629115, 0.04885576287108543, 0.8871629110090176, 0.11236982092954255, 0.021248111593949865, 0.06785775125708861, 0.7985476195705722, 0.057260999704508715, 0.009858120828248752, 0.032720571259719264, 0.9001652883950546, 0.9917972902734745, 0.0027341069339034446, 0.0034176336673793057, 0.0027341069339034446, 0.10738328499704934, 0.011865956909922858, 0.043882290340199435, 0.8368617153962783, 0.009066015788284299, 0.0018132031576568598, 0.010516578314409787, 0.9784044238716416, 0.9184874077766902, 0.004488245622643512, 0.025326528870631252, 0.0516148246604004, 0.11131003413321743, 0.052760748704710515, 0.0728339002469077, 0.763101343977037, 0.04715917575291662, 0.007304838157627176, 0.01665073403576783, 0.9290035351052914, 0.7592275897619021, 0.03370552379386921, 0.06709105843779663, 0.14004858462452618, 0.0023720412724473013, 0.0023720412724473013, 0.9938852931554193, 0.02982466719587883, 0.004937858807264707, 0.014221033364922357, 0.9510316062791826, 0.9963590068493017, 0.32196332929757193, 0.11159029268688372, 0.18808533324813737, 0.37835390407029096, 0.987748441691863, 0.0031965968986791683, 0.004794895348018752, 0.004155575968282919, 0.007844391176129688, 0.9584165076264166, 0.028295839599610663, 0.005603136554378349, 0.006219507208961051, 0.0022616389850767457, 0.005654097462691864, 0.985509187747192, 0.1581477701900884, 0.16881022819305122, 0.1206632425964519, 0.5523701518070746, 0.9916376146782898, 0.00309306804328849, 0.002474454434630792, 0.00309306804328849, 0.004498060652662087, 0.0014993535508873623, 0.9895733435856592, 0.0029987071017747247, 0.07056983726927532, 0.04077573103835674, 0.056787529625040876, 0.8318580791634395, 0.006275384241651276, 0.0022819579060550095, 0.006275384241651276, 0.9852353259392503, 0.006114610298288367, 0.002038203432762789, 0.9905668683227153, 0.002038203432762789, 0.008377977650564814, 0.9792924987104649, 0.006516204839328189, 0.006050761636519032, 0.9904847200511493, 0.002384794671070183, 0.003974657785116971, 0.003179726228093577, 0.00218674565003618, 0.9916891522914077, 0.00218674565003618, 0.00328011847505427, 0.2994953055815505, 0.22797887452031404, 0.2688485987543404, 0.20367825937296372, 0.007549198148661664, 0.9816977272519628, 0.005435422667036398, 0.005435422667036398, 0.00704065947081949, 0.8608379646321962, 0.12720124777280545, 0.004928461629573643, 0.09616334635165716, 0.018503852329560977, 0.03644084703852271, 0.8488692868473652, 0.08369297996237902, 0.12379270175923576, 0.4429702853544187, 0.34950552975214905, 0.0048104200216939974, 0.0024052100108469987, 0.98974391946354, 0.0030065125135587483, 0.07057776961693683, 0.026229142266294317, 0.07478529049794654, 0.828372639258788, 0.993049318392779, 0.002878403821428345, 0.002878403821428345, 0.002878403821428345, 0.008781405679585264, 0.002341708181222737, 0.006439697498362527, 0.9823465820229381, 0.004694465061105669, 0.004694465061105669, 0.9905321278932961, 0.004694465061105669, 0.992040974812647, 0.006702979559544912, 0.3990449151805245, 0.03427175811816852, 0.09279698264509315, 0.47387542060184995, 0.22121664038480512, 0.11270273543320115, 0.21930642453000512, 0.44677219963979886, 0.003163138089045718, 0.001581569044522859, 0.001581569044522859, 0.9932253599603554, 0.9901041343018265, 0.0014114100275150771, 0.003528525068787693, 0.004234230082545231, 0.9951932816674618, 0.19048563535549023, 0.08486572368057341, 0.14696208795994523, 0.5776893949536609, 0.11458434460219705, 0.032204434839447536, 0.06082293689163325, 0.7923946016405907, 0.004193019306551572, 0.002096509653275786, 0.990950229448355, 0.003494182755459644, 0.19670750467093845, 0.14639223998544698, 0.11519587120082553, 0.5417070765225207, 0.9939740423800539, 0.0022823743797475405, 0.0022823743797475405, 0.0022823743797475405, 0.2648661157854507, 0.08261548602277484, 0.1549305718219527, 0.49758962961868236, 0.005728336343708601, 0.9842323354190232, 0.005728336343708601, 0.004166062795424437, 0.052551197097142295, 0.032109746473379094, 0.015835544367335867, 0.8995115589933221, 0.006257918221578452, 0.0029333991663648994, 0.9879688392316982, 0.0029333991663648994, 0.07549142292377833, 0.023106756946943762, 0.03885020743128025, 0.8625236936841724, 0.07522067990948465, 0.009023705064502927, 0.029477436544042893, 0.886266663565949, 0.004210946792979991, 0.0021054733964899954, 0.0021054733964899954, 0.9937834431432778, 0.9952029135871213, 0.14957835504751474, 0.07620047646630211, 0.12170036771669968, 0.6525130994424446, 0.0025337511946973957, 0.0025337511946973957, 0.0025337511946973957, 0.9932304683213791, 0.9956689765310268, 0.9211776845436731, 0.049253313411287136, 0.016605402807233948, 0.012946585239538332, 0.00387371691700629, 0.9893473006034065, 0.00387371691700629, 0.003098973533605032, 0.9925981498491174, 0.0023712330383399843, 0.002845479646007981, 0.0023712330383399843, 0.9919493059141837, 0.0033309244657964534, 0.001998554679477872, 0.001998554679477872, 0.9741075694537253, 0.0018712274934621507, 0.004544409626979509, 0.019514229574676713, 0.004602281588506848, 0.0015340938628356162, 0.9902575884603902, 0.0030681877256712323, 0.03192849365001591, 0.7960217070377037, 0.05046673567493938, 0.12160758173217895, 0.005154479254622071, 0.9870827772601265, 0.004510169347794312, 0.003221549534138794, 0.005292040973375689, 0.001764013657791896, 0.0047040364207783895, 0.9884356529160592, 0.003635219921265112, 0.001817609960632556, 0.990597428544743, 0.003635219921265112, 0.007610603829157341, 0.981767893961297, 0.004892531033029719, 0.005436145592255244, 0.9841216646071064, 0.006729921956808198, 0.006729921956808198, 0.0020707452174794456, 0.994257261711532, 0.0018209839958086666, 0.0018209839958086666, 0.0018209839958086666, 0.006251811282095302, 0.0025397983333512167, 0.9879815516736232, 0.0033212747436131293, 0.006060808321514482, 0.0029326491878295877, 0.9877162464610052, 0.0033236690795401995, 0.990812502348943, 0.0023055555610213916, 0.0034583333415320874, 0.0034583333415320874, 0.008033343105764448, 0.9437571480652074, 0.044022720219589175, 0.004177338414997513, 0.010533418889350072, 0.8501239781673021, 0.12845632791890332, 0.010790331545187878, 0.007941142842881522, 0.909397771765846, 0.0766731033105802, 0.005750482748293516, 0.018675549114338354, 0.0016600488101634094, 0.9354375045270811, 0.0444063056718712, 0.030095475550577414, 0.029889342156395375, 0.8843122610409391, 0.05565601642915001, 0.003265172453924072, 0.9915240351749433, 0.003265172453924072, 0.0021767816359493813, 0.18628790862110048, 0.07276544908664109, 0.09407371143600016, 0.6468736498754148, 0.002577701216697506, 0.9924149684285398, 0.002577701216697506, 0.002577701216697506, 0.3288815544645188, 0.40872722277319223, 0.1711863595548887, 0.09120302630085546, 0.09525748044875754, 0.04843333884733926, 0.05303354401774382, 0.8032867773795795, 0.03354988892498898, 0.010978098210929117, 0.02811213934387456, 0.9273928012017596, 0.004368816898999498, 0.9917214360728861, 0.17322242408501226, 0.043577524121525144, 0.07685747447170772, 0.7063514080054667, 0.016886013274091966, 0.0021107516592614958, 0.0144737256635074, 0.9667242599417651, 0.006324232430835841, 0.0016396158154018848, 0.9884541058565648, 0.003747693292347165, 0.21030978655619217, 0.0933780374715264, 0.10639780073521576, 0.5899134135836269, 0.004702992480911758, 0.002351496240455879, 0.004702992480911758, 0.9882162950515831, 0.04734771649180229, 0.007613956539150315, 0.04568373923490189, 0.8994049191312858, 0.041078418803529644, 0.015387233799315453, 0.04410091115696661, 0.8993975541715947, 0.14621018693190274, 0.06929555798115769, 0.10973469101070793, 0.6747572531965418, 0.1823615989409048, 0.10348790826874842, 0.1338472465439296, 0.5803112857190371, 0.004395188955286358, 0.0014650629850954527, 0.0029301259701909055, 0.9911151094170737, 0.07439459755664563, 0.014585870067059437, 0.0252089124218356, 0.8858085474515548, 0.006647049855576492, 0.003128023461447761, 0.9872824050194495, 0.0027370205287667905, 0.0044866152089708625, 0.9904203073803179, 0.003364961406728147, 0.0022433076044854313, 0.16597816574083166, 0.06834395059916598, 0.1314754203198575, 0.6342003813693968, 0.025284420754194414, 0.0029998465301586596, 0.016713430668026816, 0.9550939952686094, 0.004436624876409884, 0.004436624876409884, 0.9893673474394042, 0.004436624876409884], \"Term\": [\"accuse\", \"accuse\", \"accuse\", \"accuse\", \"achieves_market\", \"achieves_market\", \"achieves_market\", \"achieves_market\", \"admit\", \"admit\", \"admit\", \"admit\", \"affairshomeland_securitylabor\", \"affairshomeland_securitylabor\", \"affairshomeland_securitylabor\", \"affairshomeland_securitylabor\", \"african_us\", \"african_us\", \"african_us\", \"african_us\", \"ahlafor\", \"ahlafor\", \"ahlafor\", \"ahlafor\", \"ai\", \"ai\", \"ai\", \"ai\", \"ai_bodycam\", \"ai_bodycam\", \"ai_bodycam\", \"ai_healthycitie\", \"ai_healthycitie\", \"ai_healthycitie\", \"ai_unchaine\", \"ai_unchaine\", \"alertsmobile\", \"alertsmobile\", \"alertsmobile\", \"alertsmobile\", \"also\", \"also\", \"also\", \"also\", \"alternative_investinginvest\", \"alternative_investinginvest\", \"alternative_investinginvest\", \"alternative_investinginvest\", \"americanafrican_americanasian\", \"americanafrican_americanasian\", \"americanafrican_americanasian\", \"americanafrican_americanasian\", \"analysis\", \"analysis\", \"analysis\", \"analysis\", \"analysis_forecast\", \"analysis_forecast\", \"analysis_forecast\", \"analysis_forecast\", \"analysismarket_outlookstocks_newsindustry_analysismarket\", \"analysismarket_outlookstocks_newsindustry_analysismarket\", \"analysismarket_outlookstocks_newsindustry_analysismarket\", \"analysismarket_outlookstocks_newsindustry_analysismarket\", \"analysts_recommendation\", \"analysts_recommendation\", \"analysts_recommendation\", \"analysts_recommendation\", \"aoi_system\", \"aoi_system\", \"aoi_system\", \"aoi_system\", \"app_loovic_co_founder\", \"app_loovic_co_founder\", \"app_loovic_co_founder\", \"application\", \"application\", \"application\", \"application\", \"apr_apr_apr_apr\", \"apr_apr_apr_apr\", \"argue\", \"argue\", \"argue\", \"argue\", \"arrest\", \"arrest\", \"arrest\", \"arrest\", \"artificial_intelligence\", \"artificial_intelligence\", \"artificial_intelligence\", \"artificial_intelligence\", \"artist\", \"artist\", \"artist\", \"artist\", \"ask\", \"ask\", \"ask\", \"ask\", \"atmos_gear\", \"atmos_gear\", \"atmos_gear\", \"atmos_gear_inline_electric\", \"atmos_gear_inline_electric\", \"atmos_gear_inline_electric\", \"atmos_gear_inline_electric\", \"aug_aug_aug_aug\", \"aug_aug_aug_aug\", \"automatically_post\", \"automatically_post\", \"automatically_post\", \"automatically_post\", \"automatically_update\", \"automatically_update\", \"automatically_update\", \"automatically_update\", \"automotive_artificial_intelligence_software\", \"automotive_artificial_intelligence_software\", \"aviation_market\", \"aviation_market\", \"aviation_market\", \"aviation_market\", \"awardstalk\", \"awardstalk\", \"awardstalk\", \"awardstalk\", \"bad\", \"bad\", \"bad\", \"bad\", \"ban\", \"ban\", \"ban\", \"ban\", \"base\", \"base\", \"base\", \"base\", \"beatpositive_parentingthink\", \"beatpositive_parentingthink\", \"beatpositive_parentingthink\", \"beatpositive_parentingthink\", \"bethlehem_easton_reading_kutztown\", \"bethlehem_easton_reading_kutztown\", \"bethlehem_easton_reading_kutztown\", \"bethlehem_easton_reading_kutztown\", \"bfsi_market\", \"bfsi_market\", \"bfsi_market\", \"bfsi_market\", \"bitcoin_good\", \"bitcoin_good\", \"bitcoin_good\", \"bitcoin_good\", \"blanca_rozo_post\", \"blockchainbest_altcoinshow\", \"blockchainbest_altcoinshow\", \"blockchainbest_altcoinshow\", \"blockchainbest_altcoinshow\", \"blue_wave_ai\", \"blue_wave_ai\", \"botminds_document\", \"botminds_document\", \"botminds_document\", \"botminds_document\", \"branch_agencyforeign_policy_international\", \"branch_agencyforeign_policy_international\", \"branch_agencyforeign_policy_international\", \"branch_agencyforeign_policy_international\", \"btc_drep\", \"btc_drep\", \"btc_drep\", \"btc_drep\", \"btc_link\", \"btc_link\", \"btc_link\", \"btc_link\", \"bullish_bearish\", \"bullish_bearish\", \"bullish_bearish\", \"bullish_bearish\", \"busco_productos_de_consumo\", \"busco_productos_de_consumo\", \"busco_productos_de_consumo\", \"busco_productos_de_consumo\", \"business\", \"business\", \"business\", \"business\", \"business_closingssend\", \"business_closingssend\", \"business_closingssend\", \"business_closingssend\", \"business_overview_product_offering\", \"business_techcomputer_softwaredata_design\", \"business_techcomputer_softwaredata_design\", \"business_techcomputer_softwaredata_design\", \"business_techcomputer_softwaredata_design\", \"buy_cryptocurrency\", \"buy_cryptocurrency\", \"buy_cryptocurrency\", \"buy_cryptocurrency\", \"cagr\", \"cagr\", \"cagr\", \"cagr\", \"calendarmobile\", \"calendarmobile\", \"calendarmobile\", \"calendarmobile\", \"calendarsend_us\", \"calendarsend_us\", \"calendarsend_us\", \"calendarsend_us\", \"call\", \"call\", \"call\", \"call\", \"call_forecast\", \"call_forecast\", \"call_forecast\", \"call_forecast\", \"camerascameras\", \"camerascameras\", \"camerascameras\", \"camerascameras\", \"camerasschool\", \"camerasschool\", \"camerasschool\", \"camerasschool\", \"camping_hikingpassenger_aviationtravel_industrytravel\", \"camping_hikingpassenger_aviationtravel_industrytravel\", \"camping_hikingpassenger_aviationtravel_industrytravel\", \"camping_hikingpassenger_aviationtravel_industrytravel\", \"ces_electric_skates_pet\", \"ces_electric_skates_pet\", \"ces_electric_skates_pet\", \"ces_electric_skates_pet\", \"channelstream\", \"channelstream\", \"channelstream\", \"channelstream\", \"chatgpt\", \"chatgpt\", \"chatgpt\", \"chatgpt\", \"cheat\", \"cheat\", \"cheat\", \"cheat\", \"circulating_supply\", \"circulating_supply\", \"circulating_supply\", \"circulating_supply\", \"cision_irall_productssend_releasesign\", \"cision_irall_productssend_releasesign\", \"cision_irall_productssend_releasesign\", \"cision_irall_productssend_releasesign\", \"claim\", \"claim\", \"claim\", \"claim\", \"close_search_close_menu\", \"close_search_close_menu\", \"close_search_close_menu\", \"close_search_close_menu\", \"coal_pawestern_new\", \"coal_pawestern_new\", \"coal_pawestern_new\", \"coal_pawestern_new\", \"come\", \"come\", \"come\", \"come\", \"company\", \"company\", \"company\", \"company\", \"companyenglish_onlynew\", \"companyenglish_onlynew\", \"companyenglish_onlynew\", \"companyenglish_onlynew\", \"confirm_registration\", \"confirm_registration\", \"confirm_registration\", \"confirm_registration\", \"contentaleje_jerozolimskie\", \"contentaleje_jerozolimskie\", \"contentaleje_jerozolimskie\", \"contentaleje_jerozolimskie\", \"cookie_set\", \"cookie_set\", \"cookie_set\", \"cookie_set\", \"cookie_use\", \"cookie_use\", \"cookie_use\", \"cookie_use\", \"copy\", \"copy\", \"copy\", \"copy\", \"create\", \"create\", \"create\", \"create\", \"crypto_day\", \"crypto_day\", \"crypto_day\", \"crypto_day\", \"crypto_irab\", \"crypto_irab\", \"crypto_irab\", \"crypto_irab\", \"cryptocurrency_scannersbest\", \"cryptocurrency_scannersbest\", \"cryptocurrency_scannersbest\", \"cryptocurrency_scannersbest\", \"customer\", \"customer\", \"customer\", \"customer\", \"czi_prnewswire\", \"czi_prnewswire\", \"czi_prnewswire\", \"czi_prnewswire\", \"dashboard_logoutmy_account_dashboard\", \"dashboard_logoutmy_account_dashboard\", \"dashboard_logoutmy_account_dashboard\", \"dashboard_logoutmy_account_dashboard\", \"data_privacysend\", \"data_privacysend\", \"data_privacysend\", \"data_privacysend\", \"datum\", \"datum\", \"datum\", \"datum\", \"day\", \"day\", \"day\", \"day\", \"deep_learning_adaptive_computation\", \"deeply_concerne\", \"deeply_concerne\", \"deeply_concerne\", \"deeply_concerne\", \"deficrypto\", \"deficrypto\", \"deficrypto\", \"deficrypto\", \"depth_analysis\", \"depth_analysis\", \"depth_analysis\", \"depth_analysis\", \"disastersnot\", \"disastersnot\", \"disastersnot\", \"disastersnot\", \"doctorthe_wisdom\", \"doctorthe_wisdom\", \"doctorthe_wisdom\", \"doctorthe_wisdom\", \"dofreddy_mondayprogram\", \"dofreddy_mondayprogram\", \"dofreddy_mondayprogram\", \"dofreddy_mondayprogram\", \"dollar\", \"dollar\", \"dollar\", \"dollar\", \"done_considere\", \"done_considere\", \"dot_trade\", \"dot_trade\", \"dot_trade\", \"dot_trade\", \"dowhat\", \"dowhat\", \"dowhat\", \"dowhat\", \"download_multimedia\", \"download_multimedia\", \"download_multimedia\", \"download_multimedia\", \"dress\", \"dress\", \"dress\", \"dress\", \"edge_ml_application\", \"edge_ml_application\", \"edge_ml_application\", \"edge_ml_application\", \"ein_presswire\", \"ein_presswire\", \"ein_presswire\", \"ein_presswire\", \"eliezer\", \"emailprotected_market\", \"emailprotected_market\", \"emailprotected_market\", \"emailprotected_market\", \"end\", \"end\", \"end\", \"end\", \"energyoil_ga\", \"energyoil_ga\", \"energyoil_ga\", \"energyoil_ga\", \"even\", \"even\", \"even\", \"even\", \"exchange\", \"exchange\", \"exchange\", \"exchange\", \"exchanges_liste\", \"exchanges_liste\", \"exchanges_liste\", \"exchanges_liste\", \"fear\", \"fear\", \"fear\", \"fear\", \"feb_feb_feb_feb\", \"fh_vital\", \"fh_vital\", \"field_list\", \"field_list\", \"field_list\", \"field_list\", \"fileshopweekly_savingsorder\", \"fileshopweekly_savingsorder\", \"fileshopweekly_savingsorder\", \"fileshopweekly_savingsorder\", \"financial_vertical\", \"find\", \"find\", \"find\", \"find\", \"fire\", \"fire\", \"fire\", \"fire\", \"focusbrowse\", \"focusbrowse\", \"focusbrowse\", \"focusbrowse\", \"forecast\", \"forecast\", \"forecast\", \"forecast\", \"forecast_period\", \"forecast_period\", \"forecast_period\", \"forecast_period\", \"free_cryptobeat\", \"free_cryptobeat\", \"free_cryptobeat\", \"free_cryptobeat\", \"free_daily\", \"free_daily\", \"free_daily\", \"free_daily\", \"friend\", \"friend\", \"friend\", \"friend\", \"fund_nav\", \"fund_nav\", \"fund_nav\", \"fund_nav\", \"fundsprivate_placementreal_meetingsstock_offeringstock\", \"fundsprivate_placementreal_meetingsstock_offeringstock\", \"fundsprivate_placementreal_meetingsstock_offeringstock\", \"fundsprivate_placementreal_meetingsstock_offeringstock\", \"game\", \"game\", \"game\", \"game\", \"gdax_investor\", \"gdax_investor\", \"gdax_investor\", \"gdax_investor\", \"get\", \"get\", \"get\", \"get\", \"get_sample_copy\", \"get_sample_copy\", \"get_sample_copy\", \"get_sample_copy\", \"get_startedis\", \"get_startedis\", \"get_startedis\", \"get_startedis\", \"give\", \"give\", \"give\", \"give\", \"give_us_try\", \"give_us_try\", \"give_us_try\", \"give_us_try\", \"global\", \"global\", \"global\", \"global\", \"global_artificial_intelligence\", \"global_artificial_intelligence\", \"global_artificial_intelligence\", \"global_artificial_intelligence\", \"global_artificial_intelligence_ai\", \"global_artificial_intelligence_ai\", \"global_artificial_intelligence_ai\", \"global_artificial_intelligence_ai\", \"global_industry_analysis_size\", \"global_industry_analysis_size\", \"global_industry_analysis_size\", \"global_industry_analysis_size\", \"global_machine_learne\", \"global_machine_learne\", \"global_machine_learne\", \"global_machine_learne\", \"global_market\", \"global_market\", \"global_market\", \"global_market\", \"global_robotics_artificial_intelligence\", \"global_robotics_artificial_intelligence\", \"global_robotics_artificial_intelligence\", \"global_robotics_artificial_intelligence\", \"go\", \"go\", \"go\", \"go\", \"government_working_together\", \"government_working_together\", \"growth\", \"growth\", \"growth\", \"growth\", \"growth_analysis\", \"growth_analysis\", \"growth_analysis\", \"growth_analysis\", \"growth_forecast\", \"growth_forecast\", \"growth_forecast\", \"growth_forecast\", \"healthcare_market\", \"healthcare_market\", \"healthcare_market\", \"healthcare_market\", \"healthconsumer_product\", \"healthconsumer_product\", \"healthconsumer_product\", \"healthconsumer_product\", \"height_filesize_mime_type_image\", \"height_filesize_mime_type_image\", \"height_filesize_mime_type_image\", \"height_filesize_mime_type_image\", \"help\", \"help\", \"help\", \"help\", \"hire_designer\", \"hire_designer\", \"hire_designer\", \"hire_designer\", \"hourlocal_radar\", \"hourlocal_radar\", \"hourlocal_radar\", \"hourlocal_radar\", \"hourlocal_radarradar\", \"hourlocal_radarradar\", \"hourlocal_radarradar\", \"hourlocal_radarradar\", \"human\", \"human\", \"human\", \"human\", \"husband\", \"husband\", \"husband\", \"husband\", \"ifk_kumla\", \"ifk_kumla\", \"ifk_kumla\", \"ifk_kumla\", \"iluminacion_philip\", \"iluminacion_philip\", \"iluminacion_philip\", \"iluminacion_philip\", \"image\", \"image\", \"image\", \"image\", \"impact\", \"impact\", \"impact\", \"impact\", \"important_stake\", \"important_stake\", \"important_stake\", \"important_stake\", \"improve_urban_heart_health\", \"improve_urban_heart_health\", \"include\", \"include\", \"include\", \"include\", \"includes_stock\", \"includes_stock\", \"includes_stock\", \"includes_stock\", \"indicates_way\", \"indicates_way\", \"indicates_way\", \"indicates_way\", \"industry\", \"industry\", \"industry\", \"industry\", \"industry_analysis\", \"industry_analysis\", \"industry_analysis\", \"industry_analysis\", \"information\", \"information\", \"information\", \"information\", \"insight\", \"insight\", \"insight\", \"insight\", \"insist\", \"insist\", \"insist\", \"insist\", \"intelligence\", \"intelligence\", \"intelligence\", \"intelligence\", \"internet_protocol_wireless_unication\", \"internet_protocol_wireless_unication\", \"internet_protocol_wireless_unication\", \"internet_protocol_wireless_unication\", \"investmentsbest_alternative\", \"investmentsbest_alternative\", \"investmentsbest_alternative\", \"investmentsbest_alternative\", \"jan_jan_jan_jan\", \"jan_jan_jan_jan\", \"joke\", \"joke\", \"joke\", \"joke\", \"jpeg_source_url_https_media\", \"jpeg_source_url_https_media\", \"jpeg_source_url_https_media\", \"jpeg_source_url_https_media\", \"kessler_foundation\", \"key_player\", \"key_player\", \"key_player\", \"key_player\", \"key_vendor\", \"key_vendor\", \"key_vendor\", \"key_vendor\", \"kill\", \"kill\", \"kill\", \"kill\", \"kim_kardashian\", \"kim_kardashian\", \"kim_kardashian\", \"kim_kardashian\", \"know\", \"know\", \"know\", \"know\", \"laivly\", \"laivly\", \"laivly\", \"laivly\", \"lampoon\", \"lampoon\", \"lampoon\", \"lampoon\", \"latest_headline\", \"latest_headline\", \"latest_headline\", \"latest_headline\", \"lead\", \"lead\", \"lead\", \"lead\", \"leader\", \"leader\", \"leader\", \"leader\", \"learn\", \"learn\", \"learn\", \"learn\", \"legaltech_artificial_intelligence\", \"legaltech_artificial_intelligence\", \"legaltech_artificial_intelligence\", \"legaltech_artificial_intelligence\", \"lessons_health\", \"lessons_health\", \"lessons_health\", \"lessons_health\", \"link_machine_learne\", \"link_machine_learne\", \"link_machine_learne\", \"link_machine_learne\", \"link_machine_learning\", \"link_machine_learning\", \"link_machine_learning\", \"link_machine_learning\", \"link_open\", \"link_open\", \"link_open\", \"link_open\", \"lisk_machine_learne\", \"lisk_machine_learne\", \"lisk_machine_learne\", \"lisk_machine_learne\", \"long_position_top\", \"long_position_top\", \"long_position_top\", \"long_position_top\", \"look\", \"look\", \"look\", \"look\", \"lot\", \"lot\", \"lot\", \"lot\", \"macaskill\", \"machine_learning_alerts_tether\", \"machine_learning_alerts_tether\", \"machine_learning_alerts_tether\", \"machine_learning_alerts_tether\", \"machine_learning_series_book\", \"machine_learning_service_market\", \"machine_learning_service_market\", \"machine_learning_service_market\", \"machine_learning_service_market\", \"mailonline\", \"mailonline\", \"mailonline\", \"mailonline\", \"major_player\", \"major_player\", \"major_player\", \"major_player\", \"make\", \"make\", \"make\", \"make\", \"market\", \"market\", \"market\", \"market\", \"market_analysis\", \"market_analysis\", \"market_analysis\", \"market_analysis\", \"market_growth\", \"market_growth\", \"market_growth\", \"market_growth\", \"market_player\", \"market_player\", \"market_player\", \"market_player\", \"market_report\", \"market_report\", \"market_report\", \"market_report\", \"market_share\", \"market_share\", \"market_share\", \"market_share\", \"market_size\", \"market_size\", \"market_size\", \"market_size\", \"market_trend\", \"market_trend\", \"market_trend\", \"market_trend\", \"matchupsnba_score\", \"matchupsnba_score\", \"matchupsnba_score\", \"matchupsnba_score\", \"matchupsnhl_score\", \"matchupsnhl_score\", \"matchupsnhl_score\", \"matchupsnhl_score\", \"maybe\", \"maybe\", \"maybe\", \"maybe\", \"media_nbcchicago_com\", \"media_nbcchicago_com_gettyimage\", \"media_nbcwashington_com\", \"media_nbcwashington_com_gettyimage\", \"ment_mediaall_entertain_ment\", \"ment_mediaall_entertain_ment\", \"ment_mediaall_entertain_ment\", \"ment_mediaall_entertain_ment\", \"menuthe_couri\", \"menuthe_couri\", \"menuthe_couri\", \"menuthe_couri\", \"met_gala\", \"met_gala\", \"met_gala\", \"military_market\", \"military_market\", \"military_market\", \"military_market\", \"minnesota_us\", \"minnesota_us\", \"minnesota_us\", \"minnesota_us\", \"mirror_homepress\", \"mirror_homepress\", \"mirror_homepress\", \"mirror_homepress\", \"missed_personsgood\", \"missed_personsgood\", \"missed_personsgood\", \"missed_personsgood\", \"model\", \"model\", \"model\", \"model\", \"mortgage_brokeralt\", \"mortgage_brokeralt\", \"mortgage_brokeralt\", \"mortgage_brokeralt\", \"movie\", \"movie\", \"movie\", \"movie\", \"multimediaall_photosall\", \"multimediaall_photosall\", \"multimediaall_photosall\", \"multimediaall_photosall\", \"murano\", \"murano\", \"murano\", \"murano\", \"must_die_ap_photo\", \"must_die_ap_photo\", \"must_die_ap_photo\", \"must_die_ap_photo\", \"nav\", \"nav\", \"nav\", \"nav\", \"nbcboston_com_gettyimages_jpg\", \"nbcsandiego_com\", \"nbcsandiego_com\", \"nbcsandiego_com\", \"nbcsandiego_com\", \"need\", \"need\", \"need\", \"need\", \"netreveal\", \"netreveal\", \"netreveal\", \"netreveal\", \"new\", \"new\", \"new\", \"new\", \"new_entering\", \"new_entering\", \"news\", \"news\", \"news\", \"news\", \"news_group_newspaper\", \"news_group_newspaper\", \"news_group_newspaper\", \"news_group_newspaper\", \"news_weather\", \"news_weather\", \"news_weather\", \"news_weather\", \"newsletter_previous\", \"newsletter_previous\", \"newsletter_previous\", \"newsletter_previous\", \"non_us_personnel_estate\", \"non_us_personnel_estate\", \"non_us_personnel_estate\", \"non_us_personnel_estate\", \"novartis_foundation\", \"novartis_foundation\", \"novartis_foundation\", \"nuclear_disaster\", \"nuclear_disaster\", \"opinionsjoint_venturesmutual\", \"opinionsjoint_venturesmutual\", \"opinionsjoint_venturesmutual\", \"opinionsjoint_venturesmutual\", \"organization\", \"organization\", \"organization\", \"organization\", \"otherwise_referre\", \"otherwise_referre\", \"otherwise_referre\", \"otherwise_referre\", \"overviewview\", \"overviewview\", \"overviewview\", \"overviewview\", \"pactimmune_database\", \"pactimmune_database\", \"partner\", \"partner\", \"partner\", \"partner\", \"people\", \"people\", \"people\", \"people\", \"person_head\", \"person_head\", \"person_head\", \"person_head\", \"philips_busco_soluciones_de\", \"philips_busco_soluciones_de\", \"philips_busco_soluciones_de\", \"philips_busco_soluciones_de\", \"philips_intereste\", \"philips_intereste\", \"philips_intereste\", \"philips_intereste\", \"photos_videosend\", \"photos_videosend\", \"photos_videosend\", \"photos_videosend\", \"platform\", \"platform\", \"platform\", \"platform\", \"please_change\", \"please_change\", \"please_change\", \"please_change\", \"police\", \"police\", \"police\", \"police\", \"portfolio_trackersbest\", \"portfolio_trackersbest\", \"portfolio_trackersbest\", \"portfolio_trackersbest\", \"power\", \"power\", \"power\", \"power\", \"pr_newswirecision_communications_cloud\", \"pr_newswirecision_communications_cloud\", \"pr_newswirecision_communications_cloud\", \"pr_newswirecision_communications_cloud\", \"presently_possible\", \"presently_possible\", \"presently_possible\", \"presently_possible\", \"press_release\", \"press_release\", \"press_release\", \"press_release\", \"price_reache\", \"price_reache\", \"price_reache\", \"price_reache\", \"product\", \"product\", \"product\", \"product\", \"productscontact_general_demoeditorial_type\", \"productscontact_general_demoeditorial_type\", \"productscontact_general_demoeditorial_type\", \"productscontact_general_demoeditorial_type\", \"provide\", \"provide\", \"provide\", \"provide\", \"prs_search\", \"prs_search\", \"prs_search\", \"prs_search\", \"public_group_opinionanimal_presidential\", \"public_group_opinionanimal_presidential\", \"public_group_opinionanimal_presidential\", \"public_group_opinionanimal_presidential\", \"public_inspection\", \"public_inspection\", \"public_inspection\", \"public_inspection\", \"pulling_barnacle\", \"pulling_barnacle\", \"question\", \"question\", \"question\", \"question\", \"receive_concise_daily_summary\", \"receive_concise_daily_summary\", \"receive_concise_daily_summary\", \"receive_concise_daily_summary\", \"recipesmr_foodthing\", \"recipesmr_foodthing\", \"recipesmr_foodthing\", \"recipesmr_foodthing\", \"reddit_community\", \"reddit_community\", \"reddit_community\", \"reddit_community\", \"regulated_market\", \"regulated_market\", \"regulated_market\", \"regulated_market\", \"release_newsproduct\", \"release_newsproduct\", \"release_newsproduct\", \"release_newsproduct\", \"release_servicesnewsour\", \"release_servicesnewsour\", \"release_servicesnewsour\", \"release_servicesnewsour\", \"releasesall_news_releasesall_public\", \"releasesall_news_releasesall_public\", \"releasesall_news_releasesall_public\", \"releasesall_news_releasesall_public\", \"report\", \"report\", \"report\", \"report\", \"report_include\", \"report_include\", \"report_include\", \"report_include\", \"report_provide\", \"report_provide\", \"report_provide\", \"report_provide\", \"reportsindustry_reportsmarket\", \"reportsindustry_reportsmarket\", \"reportsindustry_reportsmarket\", \"reportsindustry_reportsmarket\", \"republiceast_u\", \"republiceast_u\", \"republiceast_u\", \"republiceast_u\", \"research\", \"research\", \"research\", \"research\", \"research_business_newsindustry\", \"research_business_newsindustry\", \"research_business_newsindustry\", \"research_business_newsindustry\", \"research_report\", \"research_report\", \"research_report\", \"research_report\", \"resize_https_media_nbcboston\", \"resortsleisure_tourismoutdoor\", \"resortsleisure_tourismoutdoor\", \"resortsleisure_tourismoutdoor\", \"resortsleisure_tourismoutdoor\", \"resourcesall_metalsoil\", \"resourcesall_metalsoil\", \"resourcesall_metalsoil\", \"resourcesall_metalsoil\", \"retro_tvorder\", \"retro_tvorder\", \"retro_tvorder\", \"retro_tvorder\", \"reveal\", \"reveal\", \"reveal\", \"reveal\", \"right\", \"right\", \"right\", \"right\", \"rule\", \"rule\", \"rule\", \"rule\", \"sample_report\", \"sample_report\", \"sample_report\", \"sample_report\", \"say\", \"say\", \"say\", \"say\", \"scam\", \"scam\", \"scam\", \"scam\", \"searchsearch\", \"searchsearch\", \"searchsearch\", \"searchsearch\", \"see\", \"see\", \"see\", \"see\", \"seem\", \"seem\", \"seem\", \"seem\", \"segment\", \"segment\", \"segment\", \"segment\", \"sejong_bot\", \"sejong_bot\", \"sejong_bot\", \"self_driving_car\", \"self_driving_car\", \"self_driving_car\", \"self_driving_car\", \"sep_sep_sep_sep\", \"service\", \"service\", \"service\", \"service\", \"service_market\", \"service_market\", \"service_market\", \"service_market\", \"services_investingall_financial_service\", \"services_investingall_financial_service\", \"services_investingall_financial_service\", \"services_investingall_financial_service\", \"sex\", \"sex\", \"sex\", \"sex\", \"share\", \"share\", \"share\", \"share\", \"share_growth\", \"share_growth\", \"share_growth\", \"share_growth\", \"shelter_perspective\", \"shelter_perspective\", \"shelter_perspective\", \"shelter_perspective\", \"show\", \"show\", \"show\", \"show\", \"site_constitute\", \"site_constitute\", \"site_constitute\", \"site_constitute\", \"social_account_facebook_twitt\", \"social_account_facebook_twitt\", \"social_account_facebook_twitt\", \"social_account_facebook_twitt\", \"social_policyeconomic_news_trend\", \"social_policyeconomic_news_trend\", \"social_policyeconomic_news_trend\", \"social_policyeconomic_news_trend\", \"software_market\", \"software_market\", \"software_market\", \"software_market\", \"soluciones_para_profesionales_de\", \"soluciones_para_profesionales_de\", \"soluciones_para_profesionales_de\", \"soluciones_para_profesionales_de\", \"solution\", \"solution\", \"solution\", \"solution\", \"splitventure_service\", \"splitventure_service\", \"splitventure_service\", \"splitventure_service\", \"state_executive\", \"state_executive\", \"state_executive\", \"state_executive\", \"still\", \"still\", \"still\", \"still\", \"stock\", \"stock\", \"stock\", \"stock\", \"stocksshop_talkbusiness\", \"stocksshop_talkbusiness\", \"stocksshop_talkbusiness\", \"stocksshop_talkbusiness\", \"story\", \"story\", \"story\", \"story\", \"strategic_report\", \"strategic_report\", \"strategic_report\", \"strategic_report\", \"strip\", \"strip\", \"strip\", \"strip\", \"stroke_platform\", \"stroke_platform\", \"stroke_platform\", \"stroke_platform\", \"studsvik_scandpower\", \"studsvik_scandpower\", \"study\", \"study\", \"study\", \"study\", \"support\", \"support\", \"support\", \"support\", \"switzerland_thursday_jan\", \"switzerland_thursday_jan\", \"switzerland_thursday_jan\", \"switzerland_thursday_jan\", \"swot_analysis\", \"swot_analysis\", \"swot_analysis\", \"swot_analysis\", \"swot_analysis_key_indicator\", \"system\", \"system\", \"system\", \"system\", \"take\", \"take\", \"take\", \"take\", \"tankfreddy_awardstalk\", \"tankfreddy_awardstalk\", \"tankfreddy_awardstalk\", \"tankfreddy_awardstalk\", \"team\", \"team\", \"team\", \"team\", \"teamcontact_market\", \"teamcontact_market\", \"teamcontact_market\", \"teamcontact_market\", \"technology\", \"technology\", \"technology\", \"technology\", \"technologyall_consumer_computing_internet\", \"technologyall_consumer_computing_internet\", \"technologyall_consumer_computing_internet\", \"technologyall_consumer_computing_internet\", \"tell\", \"tell\", \"tell\", \"tell\", \"th_anniversaryfcc\", \"th_anniversaryfcc\", \"th_anniversaryfcc\", \"th_anniversaryfcc\", \"thing\", \"thing\", \"thing\", \"thing\", \"think\", \"think\", \"think\", \"think\", \"think_wow\", \"think_wow\", \"think_wow\", \"think_wow\", \"tim_ferriss\", \"time\", \"time\", \"time\", \"time\", \"tolerance_ca\", \"tolerance_ca\", \"tolerance_ca\", \"tolerance_ca\", \"tom_temin\", \"top_companie\", \"top_companie\", \"top_companie\", \"top_companie\", \"top_exchange\", \"top_exchange\", \"top_exchange\", \"top_exchange\", \"top_key_player\", \"top_key_player\", \"top_key_player\", \"top_key_player\", \"top_manufacturer\", \"top_manufacturer\", \"top_manufacturer\", \"top_manufacturer\", \"top_player\", \"top_player\", \"top_player\", \"top_player\", \"townespanol\", \"townespanol\", \"townespanol\", \"townespanol\", \"trade\", \"trade\", \"trade\", \"trade\", \"traded_lower\", \"traded_lower\", \"traded_lower\", \"traded_lower\", \"trading_strategiesb\", \"trading_strategiesb\", \"trading_strategiesb\", \"trading_strategiesb\", \"traffic_lehigh\", \"traffic_lehigh\", \"traffic_lehigh\", \"traffic_lehigh\", \"travelamusement_park\", \"travelamusement_park\", \"travelamusement_park\", \"travelamusement_park\", \"trends_forecast\", \"trends_forecast\", \"trends_forecast\", \"trends_forecast\", \"trendsgrowth_prospect\", \"trendsgrowth_prospect\", \"trendsgrowth_prospect\", \"trendsgrowth_prospect\", \"tv_metv\", \"tv_metv\", \"tv_metv\", \"tv_metv\", \"tvwfmz_tv\", \"tvwfmz_tv\", \"tvwfmz_tv\", \"tvwfmz_tv\", \"type_application\", \"type_application\", \"type_application\", \"type_application\", \"type_searching\", \"type_searching\", \"type_searching\", \"type_searching\", \"uplog\", \"uplog\", \"uplog\", \"uplog\", \"uplog_demoeditorial_officessend_releasesign\", \"uplog_demoeditorial_officessend_releasesign\", \"uplog_demoeditorial_officessend_releasesign\", \"uplog_demoeditorial_officessend_releasesign\", \"us_state\", \"us_state\", \"us_state\", \"us_state\", \"us_u\", \"us_u\", \"us_u\", \"us_u\", \"usdt_traded\", \"usdt_traded\", \"usdt_traded\", \"usdt_traded\", \"use\", \"use\", \"use\", \"use\", \"using_dollars_investors_seeking\", \"using_dollars_investors_seeking\", \"using_dollars_investors_seeking\", \"using_dollars_investors_seeking\", \"usmeet\", \"usmeet\", \"usmeet\", \"usmeet\", \"want\", \"want\", \"want\", \"want\", \"warn\", \"warn\", \"warn\", \"warn\", \"waxing_floor\", \"waxing_floor\", \"way\", \"way\", \"way\", \"way\", \"weapon\", \"weapon\", \"weapon\", \"weapon\", \"weather_streame\", \"weather_streame\", \"weather_streame\", \"weather_streame\", \"well\", \"well\", \"well\", \"well\", \"wineinvest\", \"wineinvest\", \"wineinvest\", \"wineinvest\", \"woman\", \"woman\", \"woman\", \"woman\", \"word\", \"word\", \"word\", \"word\", \"work\", \"work\", \"work\", \"work\", \"world\", \"world\", \"world\", \"world\", \"world_economic_forum_davos\", \"world_economic_forum_davos\", \"world_economic_forum_davos\", \"world_economic_forum_davos\", \"write\", \"write\", \"write\", \"write\", \"wsiradar_lightne\", \"wsiradar_lightne\", \"wsiradar_lightne\", \"wsiradar_lightne\", \"xrp_trade\", \"xrp_trade\", \"xrp_trade\", \"xrp_trade\", \"year\", \"year\", \"year\", \"year\", \"year_old\", \"year_old\", \"year_old\", \"year_old\", \"zentist\", \"zentist\", \"zentist\", \"zentist\"]}, \"R\": 30, \"lambda.step\": 0.01, \"plot.opts\": {\"xlab\": \"PC1\", \"ylab\": \"PC2\"}, \"topic.order\": [1, 2, 3, 4]};\n",
       "\n",
       "function LDAvis_load_lib(url, callback){\n",
       "  var s = document.createElement('script');\n",
       "  s.src = url;\n",
       "  s.async = true;\n",
       "  s.onreadystatechange = s.onload = callback;\n",
       "  s.onerror = function(){console.warn(\"failed to load library \" + url);};\n",
       "  document.getElementsByTagName(\"head\")[0].appendChild(s);\n",
       "}\n",
       "\n",
       "if(typeof(LDAvis) !== \"undefined\"){\n",
       "   // already loaded: just create the visualization\n",
       "   !function(LDAvis){\n",
       "       new LDAvis(\"#\" + \"ldavis_el103139682595638096207104035\", ldavis_el103139682595638096207104035_data);\n",
       "   }(LDAvis);\n",
       "}else if(typeof define === \"function\" && define.amd){\n",
       "   // require.js is available: use it to load d3/LDAvis\n",
       "   require.config({paths: {d3: \"https://d3js.org/d3.v5\"}});\n",
       "   require([\"d3\"], function(d3){\n",
       "      window.d3 = d3;\n",
       "      LDAvis_load_lib(\"https://cdn.jsdelivr.net/gh/bmabey/pyLDAvis@3.3.1/pyLDAvis/js/ldavis.v3.0.0.js\", function(){\n",
       "        new LDAvis(\"#\" + \"ldavis_el103139682595638096207104035\", ldavis_el103139682595638096207104035_data);\n",
       "      });\n",
       "    });\n",
       "}else{\n",
       "    // require.js not available: dynamically load d3 & LDAvis\n",
       "    LDAvis_load_lib(\"https://d3js.org/d3.v5.js\", function(){\n",
       "         LDAvis_load_lib(\"https://cdn.jsdelivr.net/gh/bmabey/pyLDAvis@3.3.1/pyLDAvis/js/ldavis.v3.0.0.js\", function(){\n",
       "                 new LDAvis(\"#\" + \"ldavis_el103139682595638096207104035\", ldavis_el103139682595638096207104035_data);\n",
       "            })\n",
       "         });\n",
       "}\n",
       "</script>"
      ],
      "text/plain": [
       "<IPython.core.display.HTML object>"
      ]
     },
     "execution_count": 15,
     "metadata": {},
     "output_type": "execute_result"
    }
   ],
   "source": [
    "lda_display = gensimvis.prepare(lda_model_4, doc_term_matrix, dictionary, sort_topics=False, mds='mmds')\n",
    "pyLDAvis.display(lda_display)"
   ]
  },
  {
   "cell_type": "code",
   "execution_count": null,
   "id": "352a9016-8432-4601-9859-9eb707b2b3bb",
   "metadata": {},
   "outputs": [],
   "source": []
  }
 ],
 "metadata": {
  "kernelspec": {
   "display_name": "Python 3 (ipykernel)",
   "language": "python",
   "name": "python3"
  },
  "language_info": {
   "codemirror_mode": {
    "name": "ipython",
    "version": 3
   },
   "file_extension": ".py",
   "mimetype": "text/x-python",
   "name": "python",
   "nbconvert_exporter": "python",
   "pygments_lexer": "ipython3",
   "version": "3.7.12"
  },
  "vscode": {
   "interpreter": {
    "hash": "31f2aee4e71d21fbe5cf8b01ff0e069b9275f58929596ceb00d14d90e3e16cd6"
   }
  }
 },
 "nbformat": 4,
 "nbformat_minor": 5
}
